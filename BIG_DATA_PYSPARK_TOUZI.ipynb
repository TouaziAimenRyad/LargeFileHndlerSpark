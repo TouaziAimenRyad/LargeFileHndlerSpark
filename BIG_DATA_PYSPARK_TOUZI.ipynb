{
  "nbformat": 4,
  "nbformat_minor": 0,
  "metadata": {
    "colab": {
      "provenance": [],
      "authorship_tag": "ABX9TyPPLT3LKumfs45vEESUmMCy",
      "include_colab_link": true
    },
    "kernelspec": {
      "name": "python3",
      "display_name": "Python 3"
    },
    "language_info": {
      "name": "python"
    }
  },
  "cells": [
    {
      "cell_type": "markdown",
      "metadata": {
        "id": "view-in-github",
        "colab_type": "text"
      },
      "source": [
        "<a href=\"https://colab.research.google.com/github/TouaziAimenRyad/LargeFileHndlerSpark/blob/master/BIG_DATA_PYSPARK_TOUZI.ipynb\" target=\"_parent\"><img src=\"https://colab.research.google.com/assets/colab-badge.svg\" alt=\"Open In Colab\"/></a>"
      ]
    },
    {
      "cell_type": "markdown",
      "source": [
        "#**Setting Up SPARK**"
      ],
      "metadata": {
        "id": "dUg3ymC6zUyS"
      }
    },
    {
      "cell_type": "code",
      "execution_count": null,
      "metadata": {
        "id": "w84Ao-QBmE3c"
      },
      "outputs": [],
      "source": [
        "! apt-get install openjdk-8-jdk-headless -qq > /dev/null"
      ]
    },
    {
      "cell_type": "code",
      "source": [
        "! wget -q https://dlcdn.apache.org/spark/spark-3.3.2/spark-3.3.2-bin-hadoop3.tgz"
      ],
      "metadata": {
        "id": "UphEX72Fmhqu"
      },
      "execution_count": null,
      "outputs": []
    },
    {
      "cell_type": "code",
      "source": [
        "! tar xf /content/spark-3.3.2-bin-hadoop3.tgz"
      ],
      "metadata": {
        "id": "eaOzbTBxmjdp"
      },
      "execution_count": null,
      "outputs": []
    },
    {
      "cell_type": "code",
      "source": [
        "! pip install -q findspark\n",
        "! pip install pyspark"
      ],
      "metadata": {
        "colab": {
          "base_uri": "https://localhost:8080/"
        },
        "id": "Sa-jzZjKmmH1",
        "outputId": "f3016e8f-8c25-4e05-9645-430e1778b26b"
      },
      "execution_count": null,
      "outputs": [
        {
          "output_type": "stream",
          "name": "stdout",
          "text": [
            "Looking in indexes: https://pypi.org/simple, https://us-python.pkg.dev/colab-wheels/public/simple/\n",
            "Collecting pyspark\n",
            "  Downloading pyspark-3.3.2.tar.gz (281.4 MB)\n",
            "\u001b[2K     \u001b[90m━━━━━━━━━━━━━━━━━━━━━━━━━━━━━━━━━━━━━━━\u001b[0m \u001b[32m281.4/281.4 MB\u001b[0m \u001b[31m4.6 MB/s\u001b[0m eta \u001b[36m0:00:00\u001b[0m\n",
            "\u001b[?25h  Preparing metadata (setup.py) ... \u001b[?25l\u001b[?25hdone\n",
            "Collecting py4j==0.10.9.5\n",
            "  Downloading py4j-0.10.9.5-py2.py3-none-any.whl (199 kB)\n",
            "\u001b[2K     \u001b[90m━━━━━━━━━━━━━━━━━━━━━━━━━━━━━━━━━━━━━━\u001b[0m \u001b[32m199.7/199.7 KB\u001b[0m \u001b[31m22.3 MB/s\u001b[0m eta \u001b[36m0:00:00\u001b[0m\n",
            "\u001b[?25hBuilding wheels for collected packages: pyspark\n",
            "  Building wheel for pyspark (setup.py) ... \u001b[?25l\u001b[?25hdone\n",
            "  Created wheel for pyspark: filename=pyspark-3.3.2-py2.py3-none-any.whl size=281824025 sha256=b19b39ac2ab3545099d8c5c7295bdd84111ea51b8e66d50b4257b277bedef23f\n",
            "  Stored in directory: /root/.cache/pip/wheels/b1/59/a0/a1a0624b5e865fd389919c1a10f53aec9b12195d6747710baf\n",
            "Successfully built pyspark\n",
            "Installing collected packages: py4j, pyspark\n",
            "Successfully installed py4j-0.10.9.5 pyspark-3.3.2\n"
          ]
        }
      ]
    },
    {
      "cell_type": "code",
      "source": [
        "# Set up required environment variables\n",
        "\n",
        "import os\n",
        "\n",
        "os.environ[\"JAVA_HOME\"] = \"/usr/lib/jvm/java-8-openjdk-amd64\"\n",
        "os.environ[\"SPARK_HOME\"] = \"/content/spark-3.3.2-bin-hadoop3\"\n",
        "\n",
        "import findspark\n",
        "\n",
        "findspark.init(\"spark-3.3.2-bin-hadoop3\")\n"
      ],
      "metadata": {
        "id": "BsdiXr8Coq7W"
      },
      "execution_count": null,
      "outputs": []
    },
    {
      "cell_type": "code",
      "source": [
        "# in order to use avro\n",
        "import os\n",
        "os.environ['PYSPARK_SUBMIT_ARGS'] = '--packages org.apache.spark:spark-avro_2.11:2.4.5 pyspark-shell'\n"
      ],
      "metadata": {
        "id": "R5tEToH0ukbG"
      },
      "execution_count": null,
      "outputs": []
    },
    {
      "cell_type": "code",
      "source": [
        "#spark context object \n",
        "from pyspark import SparkContext, SparkConf\n",
        "configuration = SparkConf().setAppName(\"Projet\").setMaster(\"local[*]\")\n",
        "sc = SparkContext(conf=configuration)"
      ],
      "metadata": {
        "id": "bTQ8jOAhqW7K"
      },
      "execution_count": null,
      "outputs": []
    },
    {
      "cell_type": "code",
      "source": [
        "#spark session object\n",
        "from pyspark.sql import SparkSession \n",
        "spark=SparkSession.builder.appName('Projet').getOrCreate()"
      ],
      "metadata": {
        "id": "gwA2yOMGtfrs"
      },
      "execution_count": null,
      "outputs": []
    },
    {
      "cell_type": "code",
      "source": [],
      "metadata": {
        "id": "AxqeXPnXx74T"
      },
      "execution_count": null,
      "outputs": []
    },
    {
      "cell_type": "markdown",
      "source": [
        "#**Data Prep**"
      ],
      "metadata": {
        "id": "3amDuPqjzy18"
      }
    },
    {
      "cell_type": "code",
      "source": [
        "#data download\n",
        "!wget https://www.cs.cmu.edu/afs/cs.cmu.edu/project/theo-20/www/data/news20.tar.gz"
      ],
      "metadata": {
        "id": "LN5f985Fz5NJ",
        "colab": {
          "base_uri": "https://localhost:8080/"
        },
        "outputId": "09fd35dc-46d8-436f-bdaf-c2ee9f1e72e5"
      },
      "execution_count": null,
      "outputs": [
        {
          "output_type": "stream",
          "name": "stdout",
          "text": [
            "--2023-03-06 10:07:21--  https://www.cs.cmu.edu/afs/cs.cmu.edu/project/theo-20/www/data/news20.tar.gz\n",
            "Resolving www.cs.cmu.edu (www.cs.cmu.edu)... 128.2.42.95\n",
            "Connecting to www.cs.cmu.edu (www.cs.cmu.edu)|128.2.42.95|:443... connected.\n",
            "HTTP request sent, awaiting response... 200 OK\n",
            "Length: 17329808 (17M) [application/x-gzip]\n",
            "Saving to: ‘news20.tar.gz’\n",
            "\n",
            "news20.tar.gz       100%[===================>]  16.53M  3.00MB/s    in 6.0s    \n",
            "\n",
            "2023-03-06 10:07:27 (2.77 MB/s) - ‘news20.tar.gz’ saved [17329808/17329808]\n",
            "\n"
          ]
        }
      ]
    },
    {
      "cell_type": "code",
      "source": [
        "#decompress the data \n",
        "!tar -xzf news20.tar.gz"
      ],
      "metadata": {
        "id": "tsCSr9G80AxM"
      },
      "execution_count": null,
      "outputs": []
    },
    {
      "cell_type": "code",
      "source": [
        "#rdd creation \n",
        "data_dir = \"20_newsgroup\"\n",
        "\n",
        "atheism_rdd = sc.wholeTextFiles(data_dir + \"/alt.atheism/*\")\n",
        "baseball_rdd = sc.wholeTextFiles(data_dir + \"/rec.sport.baseball/*\")"
      ],
      "metadata": {
        "id": "qdfKao2K0EkG"
      },
      "execution_count": null,
      "outputs": []
    },
    {
      "cell_type": "code",
      "source": [
        "#check if the rdd were created succesfully \n",
        "print(\"Number of documents in alt.atheism RDD: \", atheism_rdd.count())\n",
        "print(\"first entry of documents in alt.atheism RDD: \", atheism_rdd.first())#doc name in 0 and header and body in 1\n",
        "\n",
        "print(\"Number of documents in rec.sport.baseball RDD: \", baseball_rdd.count())\n",
        "print(\"first entry of documents in rec.sport.baseball RDD: \", baseball_rdd.first())\n"
      ],
      "metadata": {
        "id": "gygWOXRk0YlB",
        "colab": {
          "base_uri": "https://localhost:8080/"
        },
        "outputId": "00fe815d-71ff-4668-e7e4-8defcf2c8c4c"
      },
      "execution_count": null,
      "outputs": [
        {
          "output_type": "stream",
          "name": "stdout",
          "text": [
            "Number of documents in alt.atheism RDD:  1000\n",
            "first entry of documents in alt.atheism RDD:  ('file:/content/20_newsgroup/alt.atheism/49960', 'Xref: cantaloupe.srv.cs.cmu.edu alt.atheism:49960 alt.atheism.moderated:713 news.answers:7054 alt.answers:126\\nPath: cantaloupe.srv.cs.cmu.edu!crabapple.srv.cs.cmu.edu!bb3.andrew.cmu.edu!news.sei.cmu.edu!cis.ohio-state.edu!magnus.acs.ohio-state.edu!usenet.ins.cwru.edu!agate!spool.mu.edu!uunet!pipex!ibmpcug!mantis!mathew\\nFrom: mathew <mathew@mantis.co.uk>\\nNewsgroups: alt.atheism,alt.atheism.moderated,news.answers,alt.answers\\nSubject: Alt.Atheism FAQ: Atheist Resources\\nSummary: Books, addresses, music -- anything related to atheism\\nKeywords: FAQ, atheism, books, music, fiction, addresses, contacts\\nMessage-ID: <19930329115719@mantis.co.uk>\\nDate: Mon, 29 Mar 1993 11:57:19 GMT\\nExpires: Thu, 29 Apr 1993 11:57:19 GMT\\nFollowup-To: alt.atheism\\nDistribution: world\\nOrganization: Mantis Consultants, Cambridge. UK.\\nApproved: news-answers-request@mit.edu\\nSupersedes: <19930301143317@mantis.co.uk>\\nLines: 290\\n\\nArchive-name: atheism/resources\\nAlt-atheism-archive-name: resources\\nLast-modified: 11 December 1992\\nVersion: 1.0\\n\\n                              Atheist Resources\\n\\n                      Addresses of Atheist Organizations\\n\\n                                     USA\\n\\nFREEDOM FROM RELIGION FOUNDATION\\n\\nDarwin fish bumper stickers and assorted other atheist paraphernalia are\\navailable from the Freedom From Religion Foundation in the US.\\n\\nWrite to:  FFRF, P.O. Box 750, Madison, WI 53701.\\nTelephone: (608) 256-8900\\n\\nEVOLUTION DESIGNS\\n\\nEvolution Designs sell the \"Darwin fish\".  It\\'s a fish symbol, like the ones\\nChristians stick on their cars, but with feet and the word \"Darwin\" written\\ninside.  The deluxe moulded 3D plastic fish is $4.95 postpaid in the US.\\n\\nWrite to:  Evolution Designs, 7119 Laurel Canyon #4, North Hollywood,\\n           CA 91605.\\n\\nPeople in the San Francisco Bay area can get Darwin Fish from Lynn Gold --\\ntry mailing <figmo@netcom.com>.  For net people who go to Lynn directly, the\\nprice is $4.95 per fish.\\n\\nAMERICAN ATHEIST PRESS\\n\\nAAP publish various atheist books -- critiques of the Bible, lists of\\nBiblical contradictions, and so on.  One such book is:\\n\\n\"The Bible Handbook\" by W.P. Ball and G.W. Foote.  American Atheist Press.\\n372 pp.  ISBN 0-910309-26-4, 2nd edition, 1986.  Bible contradictions,\\nabsurdities, atrocities, immoralities... contains Ball, Foote: \"The Bible\\nContradicts Itself\", AAP.  Based on the King James version of the Bible.\\n\\nWrite to:  American Atheist Press, P.O. Box 140195, Austin, TX 78714-0195.\\n      or:  7215 Cameron Road, Austin, TX 78752-2973.\\nTelephone: (512) 458-1244\\nFax:       (512) 467-9525\\n\\nPROMETHEUS BOOKS\\n\\nSell books including Haught\\'s \"Holy Horrors\" (see below).\\n\\nWrite to:  700 East Amherst Street, Buffalo, New York 14215.\\nTelephone: (716) 837-2475.\\n\\nAn alternate address (which may be newer or older) is:\\nPrometheus Books, 59 Glenn Drive, Buffalo, NY 14228-2197.\\n\\nAFRICAN-AMERICANS FOR HUMANISM\\n\\nAn organization promoting black secular humanism and uncovering the history of\\nblack freethought.  They publish a quarterly newsletter, AAH EXAMINER.\\n\\nWrite to:  Norm R. Allen, Jr., African Americans for Humanism, P.O. Box 664,\\n           Buffalo, NY 14226.\\n\\n                                United Kingdom\\n\\nRationalist Press Association          National Secular Society\\n88 Islington High Street               702 Holloway Road\\nLondon N1 8EW                          London N19 3NL\\n071 226 7251                           071 272 1266\\n\\nBritish Humanist Association           South Place Ethical Society\\n14 Lamb\\'s Conduit Passage              Conway Hall\\nLondon WC1R 4RH                        Red Lion Square\\n071 430 0908                           London WC1R 4RL\\nfax 071 430 1271                       071 831 7723\\n\\nThe National Secular Society publish \"The Freethinker\", a monthly magazine\\nfounded in 1881.\\n\\n                                   Germany\\n\\nIBKA e.V.\\nInternationaler Bund der Konfessionslosen und Atheisten\\nPostfach 880, D-1000 Berlin 41. Germany.\\n\\nIBKA publish a journal:\\nMIZ. (Materialien und Informationen zur Zeit. Politisches\\nJournal der Konfessionslosesn und Atheisten. Hrsg. IBKA e.V.)\\nMIZ-Vertrieb, Postfach 880, D-1000 Berlin 41. Germany.\\n\\nFor atheist books, write to:\\n\\nIBDK, Internationaler B\"ucherdienst der Konfessionslosen\\nPostfach 3005, D-3000 Hannover 1. Germany.\\nTelephone: 0511/211216\\n\\n\\n                               Books -- Fiction\\n\\nTHOMAS M. DISCH\\n\\n\"The Santa Claus Compromise\"\\nShort story.  The ultimate proof that Santa exists.  All characters and \\nevents are fictitious.  Any similarity to living or dead gods -- uh, well...\\n\\nWALTER M. MILLER, JR\\n\\n\"A Canticle for Leibowitz\"\\nOne gem in this post atomic doomsday novel is the monks who spent their lives\\ncopying blueprints from \"Saint Leibowitz\", filling the sheets of paper with\\nink and leaving white lines and letters.\\n\\nEDGAR PANGBORN\\n\\n\"Davy\"\\nPost atomic doomsday novel set in clerical states.  The church, for example,\\nforbids that anyone \"produce, describe or use any substance containing...\\natoms\". \\n\\nPHILIP K. DICK\\n\\nPhilip K. Dick Dick wrote many philosophical and thought-provoking short \\nstories and novels.  His stories are bizarre at times, but very approachable.\\nHe wrote mainly SF, but he wrote about people, truth and religion rather than\\ntechnology.  Although he often believed that he had met some sort of God, he\\nremained sceptical.  Amongst his novels, the following are of some relevance:\\n\\n\"Galactic Pot-Healer\"\\nA fallible alien deity summons a group of Earth craftsmen and women to a\\nremote planet to raise a giant cathedral from beneath the oceans.  When the\\ndeity begins to demand faith from the earthers, pot-healer Joe Fernwright is\\nunable to comply.  A polished, ironic and amusing novel.\\n\\n\"A Maze of Death\"\\nNoteworthy for its description of a technology-based religion.\\n\\n\"VALIS\"\\nThe schizophrenic hero searches for the hidden mysteries of Gnostic\\nChristianity after reality is fired into his brain by a pink laser beam of\\nunknown but possibly divine origin.  He is accompanied by his dogmatic and\\ndismissively atheist friend and assorted other odd characters.\\n\\n\"The Divine Invasion\"\\nGod invades Earth by making a young woman pregnant as she returns from\\nanother star system.  Unfortunately she is terminally ill, and must be\\nassisted by a dead man whose brain is wired to 24-hour easy listening music.\\n\\nMARGARET ATWOOD\\n\\n\"The Handmaid\\'s Tale\"\\nA story based on the premise that the US Congress is mysteriously\\nassassinated, and fundamentalists quickly take charge of the nation to set it\\n\"right\" again.  The book is the diary of a woman\\'s life as she tries to live\\nunder the new Christian theocracy.  Women\\'s right to own property is revoked,\\nand their bank accounts are closed; sinful luxuries are outlawed, and the\\nradio is only used for readings from the Bible.  Crimes are punished\\nretroactively: doctors who performed legal abortions in the \"old world\" are\\nhunted down and hanged.  Atwood\\'s writing style is difficult to get used to\\nat first, but the tale grows more and more chilling as it goes on.\\n\\nVARIOUS AUTHORS\\n\\n\"The Bible\"\\nThis somewhat dull and rambling work has often been criticized.  However, it\\nis probably worth reading, if only so that you\\'ll know what all the fuss is\\nabout.  It exists in many different versions, so make sure you get the one\\ntrue version.\\n\\n                             Books -- Non-fiction\\n\\nPETER DE ROSA\\n\\n\"Vicars of Christ\", Bantam Press, 1988\\nAlthough de Rosa seems to be Christian or even Catholic this is a very\\nenlighting history of papal immoralities, adulteries, fallacies etc.\\n(German translation: \"Gottes erste Diener. Die dunkle Seite des Papsttums\",\\nDroemer-Knaur, 1989)\\n\\nMICHAEL MARTIN\\n\\n\"Atheism: A Philosophical Justification\", Temple University Press,\\n Philadelphia, USA.\\nA detailed and scholarly justification of atheism.  Contains an outstanding\\nappendix defining terminology and usage in this (necessarily) tendentious\\narea.  Argues both for \"negative atheism\" (i.e. the \"non-belief in the\\nexistence of god(s)\") and also for \"positive atheism\" (\"the belief in the\\nnon-existence of god(s)\").  Includes great refutations of the most\\nchallenging arguments for god; particular attention is paid to refuting\\ncontempory theists such as Platinga and Swinburne.\\n541 pages. ISBN 0-87722-642-3 (hardcover; paperback also available)\\n\\n\"The Case Against Christianity\", Temple University Press\\nA comprehensive critique of Christianity, in which he considers\\nthe best contemporary defences of Christianity and (ultimately)\\ndemonstrates that they are unsupportable and/or incoherent.\\n273 pages. ISBN 0-87722-767-5\\n\\nJAMES TURNER\\n\\n\"Without God, Without Creed\", The Johns Hopkins University Press, Baltimore,\\n MD, USA\\nSubtitled \"The Origins of Unbelief in America\".  Examines the way in which\\nunbelief (whether agnostic or atheistic)  became a mainstream alternative\\nworld-view.  Focusses on the period 1770-1900, and while considering France\\nand Britain the emphasis is on American, and particularly New England\\ndevelopments.  \"Neither a religious history of secularization or atheism,\\nWithout God, Without Creed is, rather, the intellectual history of the fate\\nof a single idea, the belief that God exists.\" \\n316 pages. ISBN (hardcover) 0-8018-2494-X (paper) 0-8018-3407-4\\n\\nGEORGE SELDES (Editor)\\n\\n\"The great thoughts\", Ballantine Books, New York, USA\\nA \"dictionary of quotations\" of a different kind, concentrating on statements\\nand writings which, explicitly or implicitly, present the person\\'s philosophy\\nand world-view.  Includes obscure (and often suppressed) opinions from many\\npeople.  For some popular observations, traces the way in which various\\npeople expressed and twisted the idea over the centuries.  Quite a number of\\nthe quotations are derived from Cardiff\\'s \"What Great Men Think of Religion\"\\nand Noyes\\' \"Views of Religion\".\\n490 pages. ISBN (paper) 0-345-29887-X.\\n\\nRICHARD SWINBURNE\\n\\n\"The Existence of God (Revised Edition)\", Clarendon Paperbacks, Oxford\\nThis book is the second volume in a trilogy that began with \"The Coherence of\\nTheism\" (1977) and was concluded with \"Faith and Reason\" (1981).  In this\\nwork, Swinburne attempts to construct a series of inductive arguments for the\\nexistence of God.  His arguments, which are somewhat tendentious and rely\\nupon the imputation of late 20th century western Christian values and\\naesthetics to a God which is supposedly as simple as can be conceived, were\\ndecisively rejected in Mackie\\'s \"The Miracle of Theism\".  In the revised\\nedition of \"The Existence of God\", Swinburne includes an Appendix in which he\\nmakes a somewhat incoherent attempt to rebut Mackie.\\n\\nJ. L. MACKIE\\n\\n\"The Miracle of Theism\", Oxford\\nThis (posthumous) volume contains a comprehensive review of the principal\\narguments for and against the existence of God.  It ranges from the classical\\nphilosophical positions of Descartes, Anselm, Berkeley, Hume et al, through\\nthe moral arguments of Newman, Kant and Sidgwick, to the recent restatements\\nof the classical theses by Plantinga and Swinburne.  It also addresses those\\npositions which push the concept of God beyond the realm of the rational,\\nsuch as those of Kierkegaard, Kung and Philips, as well as \"replacements for\\nGod\" such as Lelie\\'s axiarchism.  The book is a delight to read - less\\nformalistic and better written than Martin\\'s works, and refreshingly direct\\nwhen compared with the hand-waving of Swinburne.\\n\\nJAMES A. HAUGHT\\n\\n\"Holy Horrors: An Illustrated History of Religious Murder and Madness\",\\n Prometheus Books\\nLooks at religious persecution from ancient times to the present day -- and\\nnot only by Christians.\\nLibrary of Congress Catalog Card Number 89-64079. 1990.\\n\\nNORM R. ALLEN, JR.\\n\\n\"African American Humanism: an Anthology\"\\nSee the listing for African Americans for Humanism above.\\n\\nGORDON STEIN\\n\\n\"An Anthology of Atheism and Rationalism\", Prometheus Books\\nAn anthology covering a wide range of subjects, including \\'The Devil, Evil\\nand Morality\\' and \\'The History of Freethought\\'.  Comprehensive bibliography.\\n\\nEDMUND D. COHEN\\n\\n\"The Mind of The Bible-Believer\", Prometheus Books\\nA study of why people become Christian fundamentalists, and what effect it\\nhas on them.\\n\\n                                Net Resources\\n\\nThere\\'s a small mail-based archive server at mantis.co.uk which carries\\narchives of old alt.atheism.moderated articles and assorted other files.  For\\nmore information, send mail to archive-server@mantis.co.uk saying\\n\\n   help\\n   send atheism/index\\n\\nand it will mail back a reply.\\n\\n\\nmathew\\n�\\n')\n",
            "Number of documents in rec.sport.baseball RDD:  1000\n",
            "first entry of documents in rec.sport.baseball RDD:  ('file:/content/20_newsgroup/rec.sport.baseball/100521', 'Path: cantaloupe.srv.cs.cmu.edu!rochester!udel!bogus.sura.net!jhunix.hcf.jhu.edu!jhunix.hcf.jhu.edu!not-for-mail\\nFrom: admiral@jhunix.hcf.jhu.edu (Steve C Liu)\\nNewsgroups: rec.sport.baseball\\nSubject: spring records\\nDate: 17 Mar 1993 15:30:03 -0500\\nOrganization: Homewood Academic Computing, Johns Hopkins University, Baltimore, Md, USA\\nLines: 26\\nSender: admiral@jhunix.hcf.jhu.edu\\nDistribution: world\\nExpires: 5/9/93\\nMessage-ID: <1o81obINN9f7@jhunix.hcf.jhu.edu>\\nNNTP-Posting-Host: jhunix.hcf.jhu.edu\\nSummary: Earl Weaver Commandments\\n\\n\\tThe Orioles\\' pitching staff again is having a fine exhibition season.\\nFour shutouts, low team ERA, (Well, I haven\\'t gotten any baseball news since\\nMarch 14 but anyways) Could they contend, yes. Could they win it all?  Maybe.\\n\\nBut for all those fans of teams with bad spring records, remember Earl\\nWeaver\\'s first law of baseball (From his book on managing)\\n\\nNo one gives a damn in July if you lost a game in March. :)\\n\\nBTW, anyone have any idea on the contenders for the O\\'s fifth starter?\\nIt\\'s pretty much set that Sutcliffe, Mussina, McDonald and Rhodes are the\\nfirst four in the rotation.\\n\\nHere at Johns Hopkins University where the mascot is the Blue Jay :(,\\ntheir baseball team logo was the Toronto club\\'s logo. Now it\\'s a \\nanatomically correct blue jay. God, can\\'t they think of an original idea?\\nIt\\'s even in the same pose as the baltimore oriole on the O\\'s hats.\\nHow many people realize that the bird is really called a baltimore oriole?\\n__________________________________________________________________________\\n|Admiral Steve C. Liu        Internet Address: admiral@jhunix.hcf.jhu.edu|\\n|\"Committee for the Liberation and Intergration of Terrifying Organisms  |\\n|and their Rehabilitation Into Society\" from Red Dwarf - \"Polymorph\"     |\\n|****The Bangles are the greatest female rock band that ever existed!****|\\n|   This sig has been brought to you by... Frungy! The Sport of Kings!   |\\n~~~~~~~~~~~~~~~~~~~~~~~~~~~~~~~~~~~~~~~~~~~~~~~~~~~~~~~~~~~~~~~~~~~~~~~~~~\\n \\n')\n"
          ]
        }
      ]
    },
    {
      "cell_type": "code",
      "source": [
        "#separer le corps de message de l'entete \\n\\n\n",
        "def split_header_body(doc):\n",
        "    header, body = doc[1].split(\"\\n\\n\", 1) # in 0 we have doc name in 1 we have the content=header+body\n",
        "    return (doc[0], header, body)"
      ],
      "metadata": {
        "id": "91FxC93f0t5R"
      },
      "execution_count": null,
      "outputs": []
    },
    {
      "cell_type": "code",
      "source": [
        "atheism_rdd = atheism_rdd.map(split_header_body) # doc name in 0 header in 1 body in 2 \n",
        "baseball_rdd = baseball_rdd.map(split_header_body)\n",
        "print(\"Number of documents in alt.atheism RDD: \", atheism_rdd.count())\n",
        "print(\"first entry of documents in alt.atheism RDD: \", atheism_rdd.first())\n",
        "\n",
        "print(\"Number of documents in rec.sport.baseball RDD: \", baseball_rdd.count())\n",
        "print(\"first entry of documents in rec.sport.baseball RDD: \", baseball_rdd.first())\n"
      ],
      "metadata": {
        "id": "RZLsW-HC2bsO",
        "colab": {
          "base_uri": "https://localhost:8080/"
        },
        "outputId": "a8b65e7b-a910-40ee-aaa0-ce1ebbd984dd"
      },
      "execution_count": null,
      "outputs": [
        {
          "output_type": "stream",
          "name": "stdout",
          "text": [
            "Number of documents in alt.atheism RDD:  1000\n",
            "first entry of documents in alt.atheism RDD:  ('file:/content/20_newsgroup/alt.atheism/49960', 'Xref: cantaloupe.srv.cs.cmu.edu alt.atheism:49960 alt.atheism.moderated:713 news.answers:7054 alt.answers:126\\nPath: cantaloupe.srv.cs.cmu.edu!crabapple.srv.cs.cmu.edu!bb3.andrew.cmu.edu!news.sei.cmu.edu!cis.ohio-state.edu!magnus.acs.ohio-state.edu!usenet.ins.cwru.edu!agate!spool.mu.edu!uunet!pipex!ibmpcug!mantis!mathew\\nFrom: mathew <mathew@mantis.co.uk>\\nNewsgroups: alt.atheism,alt.atheism.moderated,news.answers,alt.answers\\nSubject: Alt.Atheism FAQ: Atheist Resources\\nSummary: Books, addresses, music -- anything related to atheism\\nKeywords: FAQ, atheism, books, music, fiction, addresses, contacts\\nMessage-ID: <19930329115719@mantis.co.uk>\\nDate: Mon, 29 Mar 1993 11:57:19 GMT\\nExpires: Thu, 29 Apr 1993 11:57:19 GMT\\nFollowup-To: alt.atheism\\nDistribution: world\\nOrganization: Mantis Consultants, Cambridge. UK.\\nApproved: news-answers-request@mit.edu\\nSupersedes: <19930301143317@mantis.co.uk>\\nLines: 290', 'Archive-name: atheism/resources\\nAlt-atheism-archive-name: resources\\nLast-modified: 11 December 1992\\nVersion: 1.0\\n\\n                              Atheist Resources\\n\\n                      Addresses of Atheist Organizations\\n\\n                                     USA\\n\\nFREEDOM FROM RELIGION FOUNDATION\\n\\nDarwin fish bumper stickers and assorted other atheist paraphernalia are\\navailable from the Freedom From Religion Foundation in the US.\\n\\nWrite to:  FFRF, P.O. Box 750, Madison, WI 53701.\\nTelephone: (608) 256-8900\\n\\nEVOLUTION DESIGNS\\n\\nEvolution Designs sell the \"Darwin fish\".  It\\'s a fish symbol, like the ones\\nChristians stick on their cars, but with feet and the word \"Darwin\" written\\ninside.  The deluxe moulded 3D plastic fish is $4.95 postpaid in the US.\\n\\nWrite to:  Evolution Designs, 7119 Laurel Canyon #4, North Hollywood,\\n           CA 91605.\\n\\nPeople in the San Francisco Bay area can get Darwin Fish from Lynn Gold --\\ntry mailing <figmo@netcom.com>.  For net people who go to Lynn directly, the\\nprice is $4.95 per fish.\\n\\nAMERICAN ATHEIST PRESS\\n\\nAAP publish various atheist books -- critiques of the Bible, lists of\\nBiblical contradictions, and so on.  One such book is:\\n\\n\"The Bible Handbook\" by W.P. Ball and G.W. Foote.  American Atheist Press.\\n372 pp.  ISBN 0-910309-26-4, 2nd edition, 1986.  Bible contradictions,\\nabsurdities, atrocities, immoralities... contains Ball, Foote: \"The Bible\\nContradicts Itself\", AAP.  Based on the King James version of the Bible.\\n\\nWrite to:  American Atheist Press, P.O. Box 140195, Austin, TX 78714-0195.\\n      or:  7215 Cameron Road, Austin, TX 78752-2973.\\nTelephone: (512) 458-1244\\nFax:       (512) 467-9525\\n\\nPROMETHEUS BOOKS\\n\\nSell books including Haught\\'s \"Holy Horrors\" (see below).\\n\\nWrite to:  700 East Amherst Street, Buffalo, New York 14215.\\nTelephone: (716) 837-2475.\\n\\nAn alternate address (which may be newer or older) is:\\nPrometheus Books, 59 Glenn Drive, Buffalo, NY 14228-2197.\\n\\nAFRICAN-AMERICANS FOR HUMANISM\\n\\nAn organization promoting black secular humanism and uncovering the history of\\nblack freethought.  They publish a quarterly newsletter, AAH EXAMINER.\\n\\nWrite to:  Norm R. Allen, Jr., African Americans for Humanism, P.O. Box 664,\\n           Buffalo, NY 14226.\\n\\n                                United Kingdom\\n\\nRationalist Press Association          National Secular Society\\n88 Islington High Street               702 Holloway Road\\nLondon N1 8EW                          London N19 3NL\\n071 226 7251                           071 272 1266\\n\\nBritish Humanist Association           South Place Ethical Society\\n14 Lamb\\'s Conduit Passage              Conway Hall\\nLondon WC1R 4RH                        Red Lion Square\\n071 430 0908                           London WC1R 4RL\\nfax 071 430 1271                       071 831 7723\\n\\nThe National Secular Society publish \"The Freethinker\", a monthly magazine\\nfounded in 1881.\\n\\n                                   Germany\\n\\nIBKA e.V.\\nInternationaler Bund der Konfessionslosen und Atheisten\\nPostfach 880, D-1000 Berlin 41. Germany.\\n\\nIBKA publish a journal:\\nMIZ. (Materialien und Informationen zur Zeit. Politisches\\nJournal der Konfessionslosesn und Atheisten. Hrsg. IBKA e.V.)\\nMIZ-Vertrieb, Postfach 880, D-1000 Berlin 41. Germany.\\n\\nFor atheist books, write to:\\n\\nIBDK, Internationaler B\"ucherdienst der Konfessionslosen\\nPostfach 3005, D-3000 Hannover 1. Germany.\\nTelephone: 0511/211216\\n\\n\\n                               Books -- Fiction\\n\\nTHOMAS M. DISCH\\n\\n\"The Santa Claus Compromise\"\\nShort story.  The ultimate proof that Santa exists.  All characters and \\nevents are fictitious.  Any similarity to living or dead gods -- uh, well...\\n\\nWALTER M. MILLER, JR\\n\\n\"A Canticle for Leibowitz\"\\nOne gem in this post atomic doomsday novel is the monks who spent their lives\\ncopying blueprints from \"Saint Leibowitz\", filling the sheets of paper with\\nink and leaving white lines and letters.\\n\\nEDGAR PANGBORN\\n\\n\"Davy\"\\nPost atomic doomsday novel set in clerical states.  The church, for example,\\nforbids that anyone \"produce, describe or use any substance containing...\\natoms\". \\n\\nPHILIP K. DICK\\n\\nPhilip K. Dick Dick wrote many philosophical and thought-provoking short \\nstories and novels.  His stories are bizarre at times, but very approachable.\\nHe wrote mainly SF, but he wrote about people, truth and religion rather than\\ntechnology.  Although he often believed that he had met some sort of God, he\\nremained sceptical.  Amongst his novels, the following are of some relevance:\\n\\n\"Galactic Pot-Healer\"\\nA fallible alien deity summons a group of Earth craftsmen and women to a\\nremote planet to raise a giant cathedral from beneath the oceans.  When the\\ndeity begins to demand faith from the earthers, pot-healer Joe Fernwright is\\nunable to comply.  A polished, ironic and amusing novel.\\n\\n\"A Maze of Death\"\\nNoteworthy for its description of a technology-based religion.\\n\\n\"VALIS\"\\nThe schizophrenic hero searches for the hidden mysteries of Gnostic\\nChristianity after reality is fired into his brain by a pink laser beam of\\nunknown but possibly divine origin.  He is accompanied by his dogmatic and\\ndismissively atheist friend and assorted other odd characters.\\n\\n\"The Divine Invasion\"\\nGod invades Earth by making a young woman pregnant as she returns from\\nanother star system.  Unfortunately she is terminally ill, and must be\\nassisted by a dead man whose brain is wired to 24-hour easy listening music.\\n\\nMARGARET ATWOOD\\n\\n\"The Handmaid\\'s Tale\"\\nA story based on the premise that the US Congress is mysteriously\\nassassinated, and fundamentalists quickly take charge of the nation to set it\\n\"right\" again.  The book is the diary of a woman\\'s life as she tries to live\\nunder the new Christian theocracy.  Women\\'s right to own property is revoked,\\nand their bank accounts are closed; sinful luxuries are outlawed, and the\\nradio is only used for readings from the Bible.  Crimes are punished\\nretroactively: doctors who performed legal abortions in the \"old world\" are\\nhunted down and hanged.  Atwood\\'s writing style is difficult to get used to\\nat first, but the tale grows more and more chilling as it goes on.\\n\\nVARIOUS AUTHORS\\n\\n\"The Bible\"\\nThis somewhat dull and rambling work has often been criticized.  However, it\\nis probably worth reading, if only so that you\\'ll know what all the fuss is\\nabout.  It exists in many different versions, so make sure you get the one\\ntrue version.\\n\\n                             Books -- Non-fiction\\n\\nPETER DE ROSA\\n\\n\"Vicars of Christ\", Bantam Press, 1988\\nAlthough de Rosa seems to be Christian or even Catholic this is a very\\nenlighting history of papal immoralities, adulteries, fallacies etc.\\n(German translation: \"Gottes erste Diener. Die dunkle Seite des Papsttums\",\\nDroemer-Knaur, 1989)\\n\\nMICHAEL MARTIN\\n\\n\"Atheism: A Philosophical Justification\", Temple University Press,\\n Philadelphia, USA.\\nA detailed and scholarly justification of atheism.  Contains an outstanding\\nappendix defining terminology and usage in this (necessarily) tendentious\\narea.  Argues both for \"negative atheism\" (i.e. the \"non-belief in the\\nexistence of god(s)\") and also for \"positive atheism\" (\"the belief in the\\nnon-existence of god(s)\").  Includes great refutations of the most\\nchallenging arguments for god; particular attention is paid to refuting\\ncontempory theists such as Platinga and Swinburne.\\n541 pages. ISBN 0-87722-642-3 (hardcover; paperback also available)\\n\\n\"The Case Against Christianity\", Temple University Press\\nA comprehensive critique of Christianity, in which he considers\\nthe best contemporary defences of Christianity and (ultimately)\\ndemonstrates that they are unsupportable and/or incoherent.\\n273 pages. ISBN 0-87722-767-5\\n\\nJAMES TURNER\\n\\n\"Without God, Without Creed\", The Johns Hopkins University Press, Baltimore,\\n MD, USA\\nSubtitled \"The Origins of Unbelief in America\".  Examines the way in which\\nunbelief (whether agnostic or atheistic)  became a mainstream alternative\\nworld-view.  Focusses on the period 1770-1900, and while considering France\\nand Britain the emphasis is on American, and particularly New England\\ndevelopments.  \"Neither a religious history of secularization or atheism,\\nWithout God, Without Creed is, rather, the intellectual history of the fate\\nof a single idea, the belief that God exists.\" \\n316 pages. ISBN (hardcover) 0-8018-2494-X (paper) 0-8018-3407-4\\n\\nGEORGE SELDES (Editor)\\n\\n\"The great thoughts\", Ballantine Books, New York, USA\\nA \"dictionary of quotations\" of a different kind, concentrating on statements\\nand writings which, explicitly or implicitly, present the person\\'s philosophy\\nand world-view.  Includes obscure (and often suppressed) opinions from many\\npeople.  For some popular observations, traces the way in which various\\npeople expressed and twisted the idea over the centuries.  Quite a number of\\nthe quotations are derived from Cardiff\\'s \"What Great Men Think of Religion\"\\nand Noyes\\' \"Views of Religion\".\\n490 pages. ISBN (paper) 0-345-29887-X.\\n\\nRICHARD SWINBURNE\\n\\n\"The Existence of God (Revised Edition)\", Clarendon Paperbacks, Oxford\\nThis book is the second volume in a trilogy that began with \"The Coherence of\\nTheism\" (1977) and was concluded with \"Faith and Reason\" (1981).  In this\\nwork, Swinburne attempts to construct a series of inductive arguments for the\\nexistence of God.  His arguments, which are somewhat tendentious and rely\\nupon the imputation of late 20th century western Christian values and\\naesthetics to a God which is supposedly as simple as can be conceived, were\\ndecisively rejected in Mackie\\'s \"The Miracle of Theism\".  In the revised\\nedition of \"The Existence of God\", Swinburne includes an Appendix in which he\\nmakes a somewhat incoherent attempt to rebut Mackie.\\n\\nJ. L. MACKIE\\n\\n\"The Miracle of Theism\", Oxford\\nThis (posthumous) volume contains a comprehensive review of the principal\\narguments for and against the existence of God.  It ranges from the classical\\nphilosophical positions of Descartes, Anselm, Berkeley, Hume et al, through\\nthe moral arguments of Newman, Kant and Sidgwick, to the recent restatements\\nof the classical theses by Plantinga and Swinburne.  It also addresses those\\npositions which push the concept of God beyond the realm of the rational,\\nsuch as those of Kierkegaard, Kung and Philips, as well as \"replacements for\\nGod\" such as Lelie\\'s axiarchism.  The book is a delight to read - less\\nformalistic and better written than Martin\\'s works, and refreshingly direct\\nwhen compared with the hand-waving of Swinburne.\\n\\nJAMES A. HAUGHT\\n\\n\"Holy Horrors: An Illustrated History of Religious Murder and Madness\",\\n Prometheus Books\\nLooks at religious persecution from ancient times to the present day -- and\\nnot only by Christians.\\nLibrary of Congress Catalog Card Number 89-64079. 1990.\\n\\nNORM R. ALLEN, JR.\\n\\n\"African American Humanism: an Anthology\"\\nSee the listing for African Americans for Humanism above.\\n\\nGORDON STEIN\\n\\n\"An Anthology of Atheism and Rationalism\", Prometheus Books\\nAn anthology covering a wide range of subjects, including \\'The Devil, Evil\\nand Morality\\' and \\'The History of Freethought\\'.  Comprehensive bibliography.\\n\\nEDMUND D. COHEN\\n\\n\"The Mind of The Bible-Believer\", Prometheus Books\\nA study of why people become Christian fundamentalists, and what effect it\\nhas on them.\\n\\n                                Net Resources\\n\\nThere\\'s a small mail-based archive server at mantis.co.uk which carries\\narchives of old alt.atheism.moderated articles and assorted other files.  For\\nmore information, send mail to archive-server@mantis.co.uk saying\\n\\n   help\\n   send atheism/index\\n\\nand it will mail back a reply.\\n\\n\\nmathew\\n�\\n')\n",
            "Number of documents in rec.sport.baseball RDD:  1000\n",
            "first entry of documents in rec.sport.baseball RDD:  ('file:/content/20_newsgroup/rec.sport.baseball/100521', 'Path: cantaloupe.srv.cs.cmu.edu!rochester!udel!bogus.sura.net!jhunix.hcf.jhu.edu!jhunix.hcf.jhu.edu!not-for-mail\\nFrom: admiral@jhunix.hcf.jhu.edu (Steve C Liu)\\nNewsgroups: rec.sport.baseball\\nSubject: spring records\\nDate: 17 Mar 1993 15:30:03 -0500\\nOrganization: Homewood Academic Computing, Johns Hopkins University, Baltimore, Md, USA\\nLines: 26\\nSender: admiral@jhunix.hcf.jhu.edu\\nDistribution: world\\nExpires: 5/9/93\\nMessage-ID: <1o81obINN9f7@jhunix.hcf.jhu.edu>\\nNNTP-Posting-Host: jhunix.hcf.jhu.edu\\nSummary: Earl Weaver Commandments', '\\tThe Orioles\\' pitching staff again is having a fine exhibition season.\\nFour shutouts, low team ERA, (Well, I haven\\'t gotten any baseball news since\\nMarch 14 but anyways) Could they contend, yes. Could they win it all?  Maybe.\\n\\nBut for all those fans of teams with bad spring records, remember Earl\\nWeaver\\'s first law of baseball (From his book on managing)\\n\\nNo one gives a damn in July if you lost a game in March. :)\\n\\nBTW, anyone have any idea on the contenders for the O\\'s fifth starter?\\nIt\\'s pretty much set that Sutcliffe, Mussina, McDonald and Rhodes are the\\nfirst four in the rotation.\\n\\nHere at Johns Hopkins University where the mascot is the Blue Jay :(,\\ntheir baseball team logo was the Toronto club\\'s logo. Now it\\'s a \\nanatomically correct blue jay. God, can\\'t they think of an original idea?\\nIt\\'s even in the same pose as the baltimore oriole on the O\\'s hats.\\nHow many people realize that the bird is really called a baltimore oriole?\\n__________________________________________________________________________\\n|Admiral Steve C. Liu        Internet Address: admiral@jhunix.hcf.jhu.edu|\\n|\"Committee for the Liberation and Intergration of Terrifying Organisms  |\\n|and their Rehabilitation Into Society\" from Red Dwarf - \"Polymorph\"     |\\n|****The Bangles are the greatest female rock band that ever existed!****|\\n|   This sig has been brought to you by... Frungy! The Sport of Kings!   |\\n~~~~~~~~~~~~~~~~~~~~~~~~~~~~~~~~~~~~~~~~~~~~~~~~~~~~~~~~~~~~~~~~~~~~~~~~~~\\n \\n')\n"
          ]
        }
      ]
    },
    {
      "cell_type": "code",
      "source": [
        "#extraire qlq champs de l'entete\n",
        "def extract_fields(header):\n",
        "    fields = {}\n",
        "    for line in header.split(\"\\n\"):\n",
        "        parts = line.split(\": \", 1)\n",
        "        if len(parts) == 2:\n",
        "            fields[parts[0]] = parts[1]\n",
        "    return fields"
      ],
      "metadata": {
        "id": "qOs_lbNl2cmp"
      },
      "execution_count": null,
      "outputs": []
    },
    {
      "cell_type": "code",
      "source": [
        "# this new rdds contains only the fields they have no body we made a mistake at first and tried using them for \n",
        "#the rest of the question but nothing worked so we merged the normal rdds and used \n",
        "#the extract function to create sql rows and we letf these as an exp\n",
        "atheism_fields_rdd = atheism_rdd.map(lambda doc: (doc[0], extract_fields(doc[1])))\n",
        "baseball_fields_rdd = baseball_rdd.map(lambda doc: (doc[0], extract_fields(doc[1])))"
      ],
      "metadata": {
        "id": "uAzZcuqC2pAG"
      },
      "execution_count": null,
      "outputs": []
    },
    {
      "cell_type": "code",
      "source": [
        "print(\"Sample fields from a document in the atheism RDD: \", atheism_fields_rdd.first())\n",
        "print(\"Sample fields from a document in the baseball RDD: \", baseball_fields_rdd.first())"
      ],
      "metadata": {
        "id": "xQSuLjZo2xZu",
        "colab": {
          "base_uri": "https://localhost:8080/"
        },
        "outputId": "3af50945-d1ab-42b3-ddba-d2c58d7f094f"
      },
      "execution_count": null,
      "outputs": [
        {
          "output_type": "stream",
          "name": "stdout",
          "text": [
            "Sample fields from a document in the atheism RDD:  ('file:/content/20_newsgroup/alt.atheism/49960', {'Xref': 'cantaloupe.srv.cs.cmu.edu alt.atheism:49960 alt.atheism.moderated:713 news.answers:7054 alt.answers:126', 'Path': 'cantaloupe.srv.cs.cmu.edu!crabapple.srv.cs.cmu.edu!bb3.andrew.cmu.edu!news.sei.cmu.edu!cis.ohio-state.edu!magnus.acs.ohio-state.edu!usenet.ins.cwru.edu!agate!spool.mu.edu!uunet!pipex!ibmpcug!mantis!mathew', 'From': 'mathew <mathew@mantis.co.uk>', 'Newsgroups': 'alt.atheism,alt.atheism.moderated,news.answers,alt.answers', 'Subject': 'Alt.Atheism FAQ: Atheist Resources', 'Summary': 'Books, addresses, music -- anything related to atheism', 'Keywords': 'FAQ, atheism, books, music, fiction, addresses, contacts', 'Message-ID': '<19930329115719@mantis.co.uk>', 'Date': 'Mon, 29 Mar 1993 11:57:19 GMT', 'Expires': 'Thu, 29 Apr 1993 11:57:19 GMT', 'Followup-To': 'alt.atheism', 'Distribution': 'world', 'Organization': 'Mantis Consultants, Cambridge. UK.', 'Approved': 'news-answers-request@mit.edu', 'Supersedes': '<19930301143317@mantis.co.uk>', 'Lines': '290'})\n",
            "Sample fields from a document in the baseball RDD:  ('file:/content/20_newsgroup/rec.sport.baseball/100521', {'Path': 'cantaloupe.srv.cs.cmu.edu!rochester!udel!bogus.sura.net!jhunix.hcf.jhu.edu!jhunix.hcf.jhu.edu!not-for-mail', 'From': 'admiral@jhunix.hcf.jhu.edu (Steve C Liu)', 'Newsgroups': 'rec.sport.baseball', 'Subject': 'spring records', 'Date': '17 Mar 1993 15:30:03 -0500', 'Organization': 'Homewood Academic Computing, Johns Hopkins University, Baltimore, Md, USA', 'Lines': '26', 'Sender': 'admiral@jhunix.hcf.jhu.edu', 'Distribution': 'world', 'Expires': '5/9/93', 'Message-ID': '<1o81obINN9f7@jhunix.hcf.jhu.edu>', 'NNTP-Posting-Host': 'jhunix.hcf.jhu.edu', 'Summary': 'Earl Weaver Commandments'})\n"
          ]
        }
      ]
    },
    {
      "cell_type": "code",
      "source": [
        "#6-RDD fusion \n",
        "merged_rdd = atheism_rdd.union(baseball_rdd) # fusing rdds that contains doc name header and body in 0 1 2 respectivly \n",
        "print(\"body of the first documents in merged RDD: \", merged_rdd.first()[2])\n"
      ],
      "metadata": {
        "id": "ABrf_JOT4Cus",
        "colab": {
          "base_uri": "https://localhost:8080/"
        },
        "outputId": "39529ad5-b128-4ab2-eb4a-08d8a31aeaa3"
      },
      "execution_count": null,
      "outputs": [
        {
          "output_type": "stream",
          "name": "stdout",
          "text": [
            "body of documents in merged RDD:  Archive-name: atheism/resources\n",
            "Alt-atheism-archive-name: resources\n",
            "Last-modified: 11 December 1992\n",
            "Version: 1.0\n",
            "\n",
            "                              Atheist Resources\n",
            "\n",
            "                      Addresses of Atheist Organizations\n",
            "\n",
            "                                     USA\n",
            "\n",
            "FREEDOM FROM RELIGION FOUNDATION\n",
            "\n",
            "Darwin fish bumper stickers and assorted other atheist paraphernalia are\n",
            "available from the Freedom From Religion Foundation in the US.\n",
            "\n",
            "Write to:  FFRF, P.O. Box 750, Madison, WI 53701.\n",
            "Telephone: (608) 256-8900\n",
            "\n",
            "EVOLUTION DESIGNS\n",
            "\n",
            "Evolution Designs sell the \"Darwin fish\".  It's a fish symbol, like the ones\n",
            "Christians stick on their cars, but with feet and the word \"Darwin\" written\n",
            "inside.  The deluxe moulded 3D plastic fish is $4.95 postpaid in the US.\n",
            "\n",
            "Write to:  Evolution Designs, 7119 Laurel Canyon #4, North Hollywood,\n",
            "           CA 91605.\n",
            "\n",
            "People in the San Francisco Bay area can get Darwin Fish from Lynn Gold --\n",
            "try mailing <figmo@netcom.com>.  For net people who go to Lynn directly, the\n",
            "price is $4.95 per fish.\n",
            "\n",
            "AMERICAN ATHEIST PRESS\n",
            "\n",
            "AAP publish various atheist books -- critiques of the Bible, lists of\n",
            "Biblical contradictions, and so on.  One such book is:\n",
            "\n",
            "\"The Bible Handbook\" by W.P. Ball and G.W. Foote.  American Atheist Press.\n",
            "372 pp.  ISBN 0-910309-26-4, 2nd edition, 1986.  Bible contradictions,\n",
            "absurdities, atrocities, immoralities... contains Ball, Foote: \"The Bible\n",
            "Contradicts Itself\", AAP.  Based on the King James version of the Bible.\n",
            "\n",
            "Write to:  American Atheist Press, P.O. Box 140195, Austin, TX 78714-0195.\n",
            "      or:  7215 Cameron Road, Austin, TX 78752-2973.\n",
            "Telephone: (512) 458-1244\n",
            "Fax:       (512) 467-9525\n",
            "\n",
            "PROMETHEUS BOOKS\n",
            "\n",
            "Sell books including Haught's \"Holy Horrors\" (see below).\n",
            "\n",
            "Write to:  700 East Amherst Street, Buffalo, New York 14215.\n",
            "Telephone: (716) 837-2475.\n",
            "\n",
            "An alternate address (which may be newer or older) is:\n",
            "Prometheus Books, 59 Glenn Drive, Buffalo, NY 14228-2197.\n",
            "\n",
            "AFRICAN-AMERICANS FOR HUMANISM\n",
            "\n",
            "An organization promoting black secular humanism and uncovering the history of\n",
            "black freethought.  They publish a quarterly newsletter, AAH EXAMINER.\n",
            "\n",
            "Write to:  Norm R. Allen, Jr., African Americans for Humanism, P.O. Box 664,\n",
            "           Buffalo, NY 14226.\n",
            "\n",
            "                                United Kingdom\n",
            "\n",
            "Rationalist Press Association          National Secular Society\n",
            "88 Islington High Street               702 Holloway Road\n",
            "London N1 8EW                          London N19 3NL\n",
            "071 226 7251                           071 272 1266\n",
            "\n",
            "British Humanist Association           South Place Ethical Society\n",
            "14 Lamb's Conduit Passage              Conway Hall\n",
            "London WC1R 4RH                        Red Lion Square\n",
            "071 430 0908                           London WC1R 4RL\n",
            "fax 071 430 1271                       071 831 7723\n",
            "\n",
            "The National Secular Society publish \"The Freethinker\", a monthly magazine\n",
            "founded in 1881.\n",
            "\n",
            "                                   Germany\n",
            "\n",
            "IBKA e.V.\n",
            "Internationaler Bund der Konfessionslosen und Atheisten\n",
            "Postfach 880, D-1000 Berlin 41. Germany.\n",
            "\n",
            "IBKA publish a journal:\n",
            "MIZ. (Materialien und Informationen zur Zeit. Politisches\n",
            "Journal der Konfessionslosesn und Atheisten. Hrsg. IBKA e.V.)\n",
            "MIZ-Vertrieb, Postfach 880, D-1000 Berlin 41. Germany.\n",
            "\n",
            "For atheist books, write to:\n",
            "\n",
            "IBDK, Internationaler B\"ucherdienst der Konfessionslosen\n",
            "Postfach 3005, D-3000 Hannover 1. Germany.\n",
            "Telephone: 0511/211216\n",
            "\n",
            "\n",
            "                               Books -- Fiction\n",
            "\n",
            "THOMAS M. DISCH\n",
            "\n",
            "\"The Santa Claus Compromise\"\n",
            "Short story.  The ultimate proof that Santa exists.  All characters and \n",
            "events are fictitious.  Any similarity to living or dead gods -- uh, well...\n",
            "\n",
            "WALTER M. MILLER, JR\n",
            "\n",
            "\"A Canticle for Leibowitz\"\n",
            "One gem in this post atomic doomsday novel is the monks who spent their lives\n",
            "copying blueprints from \"Saint Leibowitz\", filling the sheets of paper with\n",
            "ink and leaving white lines and letters.\n",
            "\n",
            "EDGAR PANGBORN\n",
            "\n",
            "\"Davy\"\n",
            "Post atomic doomsday novel set in clerical states.  The church, for example,\n",
            "forbids that anyone \"produce, describe or use any substance containing...\n",
            "atoms\". \n",
            "\n",
            "PHILIP K. DICK\n",
            "\n",
            "Philip K. Dick Dick wrote many philosophical and thought-provoking short \n",
            "stories and novels.  His stories are bizarre at times, but very approachable.\n",
            "He wrote mainly SF, but he wrote about people, truth and religion rather than\n",
            "technology.  Although he often believed that he had met some sort of God, he\n",
            "remained sceptical.  Amongst his novels, the following are of some relevance:\n",
            "\n",
            "\"Galactic Pot-Healer\"\n",
            "A fallible alien deity summons a group of Earth craftsmen and women to a\n",
            "remote planet to raise a giant cathedral from beneath the oceans.  When the\n",
            "deity begins to demand faith from the earthers, pot-healer Joe Fernwright is\n",
            "unable to comply.  A polished, ironic and amusing novel.\n",
            "\n",
            "\"A Maze of Death\"\n",
            "Noteworthy for its description of a technology-based religion.\n",
            "\n",
            "\"VALIS\"\n",
            "The schizophrenic hero searches for the hidden mysteries of Gnostic\n",
            "Christianity after reality is fired into his brain by a pink laser beam of\n",
            "unknown but possibly divine origin.  He is accompanied by his dogmatic and\n",
            "dismissively atheist friend and assorted other odd characters.\n",
            "\n",
            "\"The Divine Invasion\"\n",
            "God invades Earth by making a young woman pregnant as she returns from\n",
            "another star system.  Unfortunately she is terminally ill, and must be\n",
            "assisted by a dead man whose brain is wired to 24-hour easy listening music.\n",
            "\n",
            "MARGARET ATWOOD\n",
            "\n",
            "\"The Handmaid's Tale\"\n",
            "A story based on the premise that the US Congress is mysteriously\n",
            "assassinated, and fundamentalists quickly take charge of the nation to set it\n",
            "\"right\" again.  The book is the diary of a woman's life as she tries to live\n",
            "under the new Christian theocracy.  Women's right to own property is revoked,\n",
            "and their bank accounts are closed; sinful luxuries are outlawed, and the\n",
            "radio is only used for readings from the Bible.  Crimes are punished\n",
            "retroactively: doctors who performed legal abortions in the \"old world\" are\n",
            "hunted down and hanged.  Atwood's writing style is difficult to get used to\n",
            "at first, but the tale grows more and more chilling as it goes on.\n",
            "\n",
            "VARIOUS AUTHORS\n",
            "\n",
            "\"The Bible\"\n",
            "This somewhat dull and rambling work has often been criticized.  However, it\n",
            "is probably worth reading, if only so that you'll know what all the fuss is\n",
            "about.  It exists in many different versions, so make sure you get the one\n",
            "true version.\n",
            "\n",
            "                             Books -- Non-fiction\n",
            "\n",
            "PETER DE ROSA\n",
            "\n",
            "\"Vicars of Christ\", Bantam Press, 1988\n",
            "Although de Rosa seems to be Christian or even Catholic this is a very\n",
            "enlighting history of papal immoralities, adulteries, fallacies etc.\n",
            "(German translation: \"Gottes erste Diener. Die dunkle Seite des Papsttums\",\n",
            "Droemer-Knaur, 1989)\n",
            "\n",
            "MICHAEL MARTIN\n",
            "\n",
            "\"Atheism: A Philosophical Justification\", Temple University Press,\n",
            " Philadelphia, USA.\n",
            "A detailed and scholarly justification of atheism.  Contains an outstanding\n",
            "appendix defining terminology and usage in this (necessarily) tendentious\n",
            "area.  Argues both for \"negative atheism\" (i.e. the \"non-belief in the\n",
            "existence of god(s)\") and also for \"positive atheism\" (\"the belief in the\n",
            "non-existence of god(s)\").  Includes great refutations of the most\n",
            "challenging arguments for god; particular attention is paid to refuting\n",
            "contempory theists such as Platinga and Swinburne.\n",
            "541 pages. ISBN 0-87722-642-3 (hardcover; paperback also available)\n",
            "\n",
            "\"The Case Against Christianity\", Temple University Press\n",
            "A comprehensive critique of Christianity, in which he considers\n",
            "the best contemporary defences of Christianity and (ultimately)\n",
            "demonstrates that they are unsupportable and/or incoherent.\n",
            "273 pages. ISBN 0-87722-767-5\n",
            "\n",
            "JAMES TURNER\n",
            "\n",
            "\"Without God, Without Creed\", The Johns Hopkins University Press, Baltimore,\n",
            " MD, USA\n",
            "Subtitled \"The Origins of Unbelief in America\".  Examines the way in which\n",
            "unbelief (whether agnostic or atheistic)  became a mainstream alternative\n",
            "world-view.  Focusses on the period 1770-1900, and while considering France\n",
            "and Britain the emphasis is on American, and particularly New England\n",
            "developments.  \"Neither a religious history of secularization or atheism,\n",
            "Without God, Without Creed is, rather, the intellectual history of the fate\n",
            "of a single idea, the belief that God exists.\" \n",
            "316 pages. ISBN (hardcover) 0-8018-2494-X (paper) 0-8018-3407-4\n",
            "\n",
            "GEORGE SELDES (Editor)\n",
            "\n",
            "\"The great thoughts\", Ballantine Books, New York, USA\n",
            "A \"dictionary of quotations\" of a different kind, concentrating on statements\n",
            "and writings which, explicitly or implicitly, present the person's philosophy\n",
            "and world-view.  Includes obscure (and often suppressed) opinions from many\n",
            "people.  For some popular observations, traces the way in which various\n",
            "people expressed and twisted the idea over the centuries.  Quite a number of\n",
            "the quotations are derived from Cardiff's \"What Great Men Think of Religion\"\n",
            "and Noyes' \"Views of Religion\".\n",
            "490 pages. ISBN (paper) 0-345-29887-X.\n",
            "\n",
            "RICHARD SWINBURNE\n",
            "\n",
            "\"The Existence of God (Revised Edition)\", Clarendon Paperbacks, Oxford\n",
            "This book is the second volume in a trilogy that began with \"The Coherence of\n",
            "Theism\" (1977) and was concluded with \"Faith and Reason\" (1981).  In this\n",
            "work, Swinburne attempts to construct a series of inductive arguments for the\n",
            "existence of God.  His arguments, which are somewhat tendentious and rely\n",
            "upon the imputation of late 20th century western Christian values and\n",
            "aesthetics to a God which is supposedly as simple as can be conceived, were\n",
            "decisively rejected in Mackie's \"The Miracle of Theism\".  In the revised\n",
            "edition of \"The Existence of God\", Swinburne includes an Appendix in which he\n",
            "makes a somewhat incoherent attempt to rebut Mackie.\n",
            "\n",
            "J. L. MACKIE\n",
            "\n",
            "\"The Miracle of Theism\", Oxford\n",
            "This (posthumous) volume contains a comprehensive review of the principal\n",
            "arguments for and against the existence of God.  It ranges from the classical\n",
            "philosophical positions of Descartes, Anselm, Berkeley, Hume et al, through\n",
            "the moral arguments of Newman, Kant and Sidgwick, to the recent restatements\n",
            "of the classical theses by Plantinga and Swinburne.  It also addresses those\n",
            "positions which push the concept of God beyond the realm of the rational,\n",
            "such as those of Kierkegaard, Kung and Philips, as well as \"replacements for\n",
            "God\" such as Lelie's axiarchism.  The book is a delight to read - less\n",
            "formalistic and better written than Martin's works, and refreshingly direct\n",
            "when compared with the hand-waving of Swinburne.\n",
            "\n",
            "JAMES A. HAUGHT\n",
            "\n",
            "\"Holy Horrors: An Illustrated History of Religious Murder and Madness\",\n",
            " Prometheus Books\n",
            "Looks at religious persecution from ancient times to the present day -- and\n",
            "not only by Christians.\n",
            "Library of Congress Catalog Card Number 89-64079. 1990.\n",
            "\n",
            "NORM R. ALLEN, JR.\n",
            "\n",
            "\"African American Humanism: an Anthology\"\n",
            "See the listing for African Americans for Humanism above.\n",
            "\n",
            "GORDON STEIN\n",
            "\n",
            "\"An Anthology of Atheism and Rationalism\", Prometheus Books\n",
            "An anthology covering a wide range of subjects, including 'The Devil, Evil\n",
            "and Morality' and 'The History of Freethought'.  Comprehensive bibliography.\n",
            "\n",
            "EDMUND D. COHEN\n",
            "\n",
            "\"The Mind of The Bible-Believer\", Prometheus Books\n",
            "A study of why people become Christian fundamentalists, and what effect it\n",
            "has on them.\n",
            "\n",
            "                                Net Resources\n",
            "\n",
            "There's a small mail-based archive server at mantis.co.uk which carries\n",
            "archives of old alt.atheism.moderated articles and assorted other files.  For\n",
            "more information, send mail to archive-server@mantis.co.uk saying\n",
            "\n",
            "   help\n",
            "   send atheism/index\n",
            "\n",
            "and it will mail back a reply.\n",
            "\n",
            "\n",
            "mathew\n",
            "�\n",
            "\n"
          ]
        }
      ]
    },
    {
      "cell_type": "code",
      "source": [
        "#transformation de rdd pyspark sql row\n",
        "from pyspark.sql import Row"
      ],
      "metadata": {
        "id": "Sow95qyd4Csn"
      },
      "execution_count": null,
      "outputs": []
    },
    {
      "cell_type": "code",
      "source": [
        "def create_row(doc_id, fields, body):\n",
        "    return Row(doc_id=doc_id, organization=fields.get(\"Organization\", \"\"), newsgroups=fields.get(\"Newsgroups\", \"\"),subject=fields.get(\"Subject\",\"\"),Date=fields.get(\"Date\",\"\"),From=fields.get(\"From\",\"\"), lines=fields.get(\"Lines\",\"\"), body=body)"
      ],
      "metadata": {
        "id": "6HC0R6ugalGo"
      },
      "execution_count": null,
      "outputs": []
    },
    {
      "cell_type": "code",
      "source": [
        "row_rdd = merged_rdd.map(lambda doc: create_row(doc[0], extract_fields(doc[1]), doc[2])) # creating row from the merged rdd and using the extract functions to extract spsific fields from the header  \n",
        "print(\"Number of documents in row RDD: \", row_rdd.count())\n"
      ],
      "metadata": {
        "colab": {
          "base_uri": "https://localhost:8080/"
        },
        "id": "hQ3iNsLgaybY",
        "outputId": "79c3b760-66dc-4e0e-9cb4-c79ba7ddf16f"
      },
      "execution_count": null,
      "outputs": [
        {
          "output_type": "stream",
          "name": "stdout",
          "text": [
            "Number of documents in row RDD:  2000\n"
          ]
        }
      ]
    },
    {
      "cell_type": "code",
      "source": [
        "#creating data frame \n",
        "df = row_rdd.toDF(),#this creates a tupple this is just for testing and seeing the diffrence between the \n",
        "df2 = spark.createDataFrame(row_rdd) # this create a spark dataframe we will continue working with this  functions \n",
        "df2.show()"
      ],
      "metadata": {
        "id": "C4-UV6j0ayST",
        "colab": {
          "base_uri": "https://localhost:8080/"
        },
        "outputId": "c3018048-0dcb-4a23-d636-24a4281c0917"
      },
      "execution_count": null,
      "outputs": [
        {
          "output_type": "stream",
          "name": "stdout",
          "text": [
            "+--------------------+--------------------+--------------------+--------------------+--------------------+--------------------+-----+--------------------+\n",
            "|              doc_id|        organization|          newsgroups|             subject|                Date|                From|lines|                body|\n",
            "+--------------------+--------------------+--------------------+--------------------+--------------------+--------------------+-----+--------------------+\n",
            "|file:/content/20_...|Mantis Consultant...|alt.atheism,alt.a...|Alt.Atheism FAQ: ...|Mon, 29 Mar 1993 ...|mathew <mathew@ma...|  290|Archive-name: ath...|\n",
            "|file:/content/20_...|Mantis Consultant...|alt.atheism,alt.a...|Alt.Atheism FAQ: ...|Mon, 5 Apr 1993 1...|mathew <mathew@ma...|  646|Archive-name: ath...|\n",
            "|file:/content/20_...|Technical Univers...|         alt.atheism|   Re: Gospel Dating|Mon, 5 Apr 1993 1...|I3150101@dbstu1.r...|   93|In article <65974...|\n",
            "|file:/content/20_...|Mantis Consultant...|alt.atheism,alt.p...|Re: university vi...|Mon, 5 Apr 1993 1...|mathew <mathew@ma...|   29|dmn@kepler.unh.ed...|\n",
            "|file:/content/20_...|        IBM Research|alt.atheism,soc.m...|Re: [soc.motss, e...|Mon, 05 Apr 93 18...|strom@Watson.Ibm....|   15|In article <N4HY....|\n",
            "|file:/content/20_...|Technical Univers...|         alt.atheism|Re: A visit from ...|Mon, 5 Apr 1993 1...|I3150101@dbstu1.r...|  114|In article <1993A...|\n",
            "|file:/content/20_...|California Instit...|         alt.atheism|Re: Political Ath...|2 Apr 93 19:05:57...|keith@cco.caltech...|   11|arromdee@jyusenky...|\n",
            "|file:/content/20_...|Technical Univers...|         alt.atheism|Re: An Anecdote a...|Mon, 5 Apr 1993 1...|I3150101@dbstu1.r...|   28|In article <11412...|\n",
            "|file:/content/20_...|California Instit...|         alt.atheism|Re: <Political At...|2 Apr 1993 20:43:...|keith@cco.caltech...|   54|(reference line t...|\n",
            "|file:/content/20_...|California Instit...|         alt.atheism|Re: >>>>>>Pompous...|2 Apr 93 20:57:33...|keith@cco.caltech...|    9|kmr4@po.CWRU.edu ...|\n",
            "|file:/content/20_...|California Instit...|         alt.atheism|Re: >>>>>>Pompous...|2 Apr 93 21:01:40...|keith@cco.caltech...|   14|livesey@solntze.w...|\n",
            "|file:/content/20_...|California Instit...|         alt.atheism|Re: Keith Schneid...|2 Apr 93 21:10:38...|keith@cco.caltech...|   12|sandvik@newton.ap...|\n",
            "|file:/content/20_...|California Instit...|alt.atheism,talk....|    Re: Albert Sabin|2 Apr 93 20:54:30...|keith@cco.caltech...|   19|wpr@atlanta.dg.co...|\n",
            "|file:/content/20_...|California Instit...|         alt.atheism|Re: Keith Schneid...|2 Apr 93 21:07:36...|keith@cco.caltech...|   25|arromdee@jyusenky...|\n",
            "|file:/content/20_...|California Instit...|         alt.atheism|Re: <Political At...|2 Apr 1993 21:22:...|keith@cco.caltech...|   44|bobbe@vice.ICO.TE...|\n",
            "|file:/content/20_...|California Instit...|         alt.atheism|Re: <Political At...|2 Apr 93 21:35:33...|keith@cco.caltech...|   50|bobbe@vice.ICO.TE...|\n",
            "|file:/content/20_...|California Instit...|         alt.atheism|Re: Political Ath...|2 Apr 93 21:40:41...|keith@cco.caltech...|   26|bobbe@vice.ICO.TE...|\n",
            "|file:/content/20_...|Tektronix, Inc., ...|         alt.atheism|Re: Don't more in...|5 Apr 93 19:54:50...|bobbe@vice.ICO.TE...|   26|In article <29428...|\n",
            "|file:/content/20_...|Tektronix, Inc., ...|         alt.atheism|Re: Ancient islam...|5 Apr 93 20:02:06...|bobbe@vice.ICO.TE...|   33|In article <1993A...|\n",
            "|file:/content/20_...|Tektronix, Inc., ...|         alt.atheism|Re: <Political At...|5 Apr 93 20:16:20...|bobbe@vice.ICO.TE...|   47|In article <1993A...|\n",
            "+--------------------+--------------------+--------------------+--------------------+--------------------+--------------------+-----+--------------------+\n",
            "only showing top 20 rows\n",
            "\n"
          ]
        }
      ]
    },
    {
      "cell_type": "code",
      "source": [
        "!pip install fastavro"
      ],
      "metadata": {
        "colab": {
          "base_uri": "https://localhost:8080/"
        },
        "id": "q4BjxI9NtuJ7",
        "outputId": "96b30b0e-1cf5-4384-c70e-6c0a739223cb"
      },
      "execution_count": null,
      "outputs": [
        {
          "output_type": "stream",
          "name": "stdout",
          "text": [
            "Looking in indexes: https://pypi.org/simple, https://us-python.pkg.dev/colab-wheels/public/simple/\n",
            "Collecting fastavro\n",
            "  Downloading fastavro-1.7.2-cp38-cp38-manylinux_2_17_x86_64.manylinux2014_x86_64.whl (2.7 MB)\n",
            "\u001b[2K     \u001b[90m━━━━━━━━━━━━━━━━━━━━━━━━━━━━━━━━━━━━━━━━\u001b[0m \u001b[32m2.7/2.7 MB\u001b[0m \u001b[31m25.3 MB/s\u001b[0m eta \u001b[36m0:00:00\u001b[0m\n",
            "\u001b[?25hInstalling collected packages: fastavro\n",
            "Successfully installed fastavro-1.7.2\n"
          ]
        }
      ]
    },
    {
      "cell_type": "code",
      "source": [
        "!pip install pandavro"
      ],
      "metadata": {
        "colab": {
          "base_uri": "https://localhost:8080/"
        },
        "id": "V14R03_Tprac",
        "outputId": "74994107-1f96-4054-82da-651851f20555"
      },
      "execution_count": null,
      "outputs": [
        {
          "output_type": "stream",
          "name": "stdout",
          "text": [
            "Looking in indexes: https://pypi.org/simple, https://us-python.pkg.dev/colab-wheels/public/simple/\n",
            "Collecting pandavro\n",
            "  Downloading pandavro-1.7.1.tar.gz (8.1 kB)\n",
            "  Preparing metadata (setup.py) ... \u001b[?25l\u001b[?25hdone\n",
            "Collecting fastavro==1.5.1\n",
            "  Downloading fastavro-1.5.1-cp38-cp38-manylinux_2_17_x86_64.manylinux2014_x86_64.whl (2.6 MB)\n",
            "\u001b[2K     \u001b[90m━━━━━━━━━━━━━━━━━━━━━━━━━━━━━━━━━━━━━━━━\u001b[0m \u001b[32m2.6/2.6 MB\u001b[0m \u001b[31m28.3 MB/s\u001b[0m eta \u001b[36m0:00:00\u001b[0m\n",
            "\u001b[?25hRequirement already satisfied: pandas>=1.1 in /usr/local/lib/python3.8/dist-packages (from pandavro) (1.3.5)\n",
            "Requirement already satisfied: numpy>=1.15.4 in /usr/local/lib/python3.8/dist-packages (from pandavro) (1.22.4)\n",
            "Requirement already satisfied: pytz>=2017.3 in /usr/local/lib/python3.8/dist-packages (from pandas>=1.1->pandavro) (2022.7.1)\n",
            "Requirement already satisfied: python-dateutil>=2.7.3 in /usr/local/lib/python3.8/dist-packages (from pandas>=1.1->pandavro) (2.8.2)\n",
            "Requirement already satisfied: six>=1.5 in /usr/local/lib/python3.8/dist-packages (from python-dateutil>=2.7.3->pandas>=1.1->pandavro) (1.15.0)\n",
            "Building wheels for collected packages: pandavro\n",
            "  Building wheel for pandavro (setup.py) ... \u001b[?25l\u001b[?25hdone\n",
            "  Created wheel for pandavro: filename=pandavro-1.7.1-py3-none-any.whl size=5688 sha256=da6726d13eb8c7a39a4aff79560bfa78c597805179c4267e031a48dfd7294cdc\n",
            "  Stored in directory: /root/.cache/pip/wheels/85/cc/15/480a3cfa1a9fc49e2af9bde7437bd6c8c0265f17e61f32672b\n",
            "Successfully built pandavro\n",
            "Installing collected packages: fastavro, pandavro\n",
            "  Attempting uninstall: fastavro\n",
            "    Found existing installation: fastavro 1.7.2\n",
            "    Uninstalling fastavro-1.7.2:\n",
            "      Successfully uninstalled fastavro-1.7.2\n",
            "Successfully installed fastavro-1.5.1 pandavro-1.7.1\n"
          ]
        }
      ]
    },
    {
      "cell_type": "code",
      "source": [
        "#save format avro \n",
        "from fastavro import writer, reader, parse_schema\n",
        "import numpy as np\n",
        "import pandas as pd\n",
        "import pandavro as pdx\n"
      ],
      "metadata": {
        "id": "gmf9rru5ayNp"
      },
      "execution_count": null,
      "outputs": []
    },
    {
      "cell_type": "code",
      "source": [
        "avro_schema ={\n",
        "   'doc': '20 news group',\n",
        "   'namespace': 'test',\n",
        "   'type': 'record',\n",
        "   'name': 'news',\n",
        "   'fields': [\n",
        "      {'name': 'doc_id', 'type': 'string'},\n",
        "      {'name': 'organization', 'type': 'string'},\n",
        "      {'name': 'newsgroups', 'type': 'string'},\n",
        "      {'name': 'body', 'type': 'string'}\n",
        "   ]\n",
        "}\n",
        "\n",
        "avro_schema=parse_schema(avro_schema)\n",
        "type(avro_schema)"
      ],
      "metadata": {
        "id": "2HAiKYDRayJX",
        "colab": {
          "base_uri": "https://localhost:8080/"
        },
        "outputId": "9c1c3ef2-d4ef-4c59-a762-3f85ccc0cb0c"
      },
      "execution_count": null,
      "outputs": [
        {
          "output_type": "execute_result",
          "data": {
            "text/plain": [
              "dict"
            ]
          },
          "metadata": {},
          "execution_count": 26
        }
      ]
    },
    {
      "cell_type": "code",
      "source": [
        "#1-method: converting to pandas then records before writing in avro file !!!!!!!!!!!!!!!!!!!!!!!!!!!!!!!!!!!!!\n",
        "df_pandas=df2.toPandas() \n",
        "records = df_pandas.to_dict('records')\n",
        "#df_pandas.head()"
      ],
      "metadata": {
        "id": "GXCnGf6VgxPK"
      },
      "execution_count": null,
      "outputs": []
    },
    {
      "cell_type": "code",
      "source": [
        "with open('sample_df.avro', 'wb') as out:\n",
        "    writer(out,avro_schema,records)\n"
      ],
      "metadata": {
        "id": "NTH_OBLHayE-"
      },
      "execution_count": null,
      "outputs": []
    },
    {
      "cell_type": "code",
      "source": [
        "#2-method:writng the pandas data frame directly into avro file using pandasavro\n",
        "pdx.to_avro(\"sample_df2.avro\", df_pandas)"
      ],
      "metadata": {
        "id": "LDLVmsU_qE7l"
      },
      "execution_count": null,
      "outputs": []
    },
    {
      "cell_type": "code",
      "source": [
        "#save parquet format\n",
        "!pip install pyarrow"
      ],
      "metadata": {
        "id": "BDhhLRPpax8m",
        "colab": {
          "base_uri": "https://localhost:8080/"
        },
        "outputId": "12eaf2f0-5c4b-4bbb-9cac-4c8b97db4380"
      },
      "execution_count": null,
      "outputs": [
        {
          "output_type": "stream",
          "name": "stdout",
          "text": [
            "Looking in indexes: https://pypi.org/simple, https://us-python.pkg.dev/colab-wheels/public/simple/\n",
            "Requirement already satisfied: pyarrow in /usr/local/lib/python3.8/dist-packages (9.0.0)\n",
            "Requirement already satisfied: numpy>=1.16.6 in /usr/local/lib/python3.8/dist-packages (from pyarrow) (1.22.4)\n"
          ]
        }
      ]
    },
    {
      "cell_type": "code",
      "source": [
        "import pyarrow as pa\n",
        "import pyarrow.parquet as pq\n",
        "\n",
        "table = pa.Table.from_pandas(df_pandas)\n",
        "pq.write_table(table, 'sample_df.parquet')"
      ],
      "metadata": {
        "id": "3XxARkGrrzNU"
      },
      "execution_count": null,
      "outputs": []
    },
    {
      "cell_type": "markdown",
      "source": [
        "#**Analyse descriptive**"
      ],
      "metadata": {
        "id": "i86_e-v5dHVQ"
      }
    },
    {
      "cell_type": "code",
      "source": [
        "#Vérifier qu’on a bien deux catégories différentes de documents\n",
        "df2.createOrReplaceTempView(\"documents\")\n",
        "\n",
        "spark.sql(\"SELECT documents.newsgroups, COUNT(*) as count FROM documents GROUP BY documents.newsgroups\").show()\n",
        "\n"
      ],
      "metadata": {
        "id": "UipTfJJrdGcB",
        "colab": {
          "base_uri": "https://localhost:8080/"
        },
        "outputId": "36f5789e-6c10-4914-9c52-1eeef9782374"
      },
      "execution_count": null,
      "outputs": [
        {
          "output_type": "stream",
          "name": "stdout",
          "text": [
            "+--------------------+-----+\n",
            "|          newsgroups|count|\n",
            "+--------------------+-----+\n",
            "|talk.religion.mis...|    4|\n",
            "|talk.religion.mis...|    2|\n",
            "|alt.atheism,talk....|   20|\n",
            "|alt.atheism,soc.m...|    8|\n",
            "|talk.religion.mis...|    4|\n",
            "|alt.atheism,soc.c...|    2|\n",
            "|alt.atheism,alt.f...|    1|\n",
            "|alt.atheism,alt.p...|    2|\n",
            "|alt.atheism,talk....|    5|\n",
            "|alt.atheism,rec.s...|    3|\n",
            "|talk.abortion,alt...|   94|\n",
            "|alt.atheism,talk....|    2|\n",
            "|alt.atheism,talk....|    1|\n",
            "|alt.atheism,alt.a...|    7|\n",
            "|alt.atheism,talk....|   92|\n",
            "|         alt.atheism|  734|\n",
            "|soc.culture.arabi...|    2|\n",
            "|soc.culture.arabi...|    1|\n",
            "|rec.scouting,soc....|    1|\n",
            "|alt.slack,talk.re...|    1|\n",
            "+--------------------+-----+\n",
            "only showing top 20 rows\n",
            "\n"
          ]
        }
      ]
    },
    {
      "cell_type": "code",
      "source": [
        "#Donner le nombre d'organisations différentes\n",
        "spark.sql(\"SELECT COUNT(DISTINCT organization) as count FROM documents\").show()"
      ],
      "metadata": {
        "id": "DHk7-Z3tetVd",
        "colab": {
          "base_uri": "https://localhost:8080/"
        },
        "outputId": "9e5cb105-2e76-46ab-de1c-6113d1c17a08"
      },
      "execution_count": null,
      "outputs": [
        {
          "output_type": "stream",
          "name": "stdout",
          "text": [
            "+-----+\n",
            "|count|\n",
            "+-----+\n",
            "|  486|\n",
            "+-----+\n",
            "\n"
          ]
        }
      ]
    },
    {
      "cell_type": "code",
      "source": [
        "#Suivant les champs extraits à la partie 3, donner d’autres statistiques descriptives (nombre, moyenne, etc)\n",
        "spark.sql(\"SELECT AVG(lines) as avg_lines_body FROM documents\").show()"
      ],
      "metadata": {
        "id": "MCgYWqxze0w9",
        "colab": {
          "base_uri": "https://localhost:8080/"
        },
        "outputId": "c37b51f7-3008-4bcb-cf83-eb92ed3d6c29"
      },
      "execution_count": null,
      "outputs": [
        {
          "output_type": "stream",
          "name": "stdout",
          "text": [
            "+-----------------+\n",
            "|   avg_lines_body|\n",
            "+-----------------+\n",
            "|36.48294884653962|\n",
            "+-----------------+\n",
            "\n"
          ]
        }
      ]
    },
    {
      "cell_type": "code",
      "source": [
        "# authors and how many docs they wrote \n",
        "df2.groupBy(\"FROM\").count().show()"
      ],
      "metadata": {
        "colab": {
          "base_uri": "https://localhost:8080/"
        },
        "id": "RkwS6aHHw6L5",
        "outputId": "02b221ef-53e7-4f3d-fbfa-b1f33b0c5b6f"
      },
      "execution_count": null,
      "outputs": [
        {
          "output_type": "stream",
          "name": "stdout",
          "text": [
            "+--------------------+-----+\n",
            "|                FROM|count|\n",
            "+--------------------+-----+\n",
            "|bobbe@vice.ICO.TE...|   24|\n",
            "|jcopelan@nyx.cs.d...|    5|\n",
            "|jgacker@news.gsfc...|    1|\n",
            "|pharvey@quack.kfu...|    3|\n",
            "|davidk@welch.jhu....|    2|\n",
            "|ingles@engin.umic...|    6|\n",
            "|p00261@psilink.co...|    1|\n",
            "|a137490@lehtori.c...|    5|\n",
            "|timmbake@mcl.ucsb...|    6|\n",
            "|sandvik@newton.ap...|   25|\n",
            "|cfaehl@vesta.unm....|    3|\n",
            "|rm03@ic.ac.uk (Mr...|    1|\n",
            "|simon@dcs.warwick...|    3|\n",
            "|agrino@enkidu.mic...|    1|\n",
            "|strom@Watson.Ibm....|    1|\n",
            "|bevans@carina.unm...|    1|\n",
            "|nyeda@cnsvax.uwec...|    8|\n",
            "|wolfe@wolves.Durh...|    1|\n",
            "|jbrown@batman.bmd...|    8|\n",
            "|nancyo@shnext15.u...|    1|\n",
            "+--------------------+-----+\n",
            "only showing top 20 rows\n",
            "\n"
          ]
        }
      ]
    },
    {
      "cell_type": "code",
      "source": [
        "#nbr of doc in each organization\n",
        "df2.groupBy(\"organization\").count().show()"
      ],
      "metadata": {
        "colab": {
          "base_uri": "https://localhost:8080/"
        },
        "id": "zq6B0QAGw57l",
        "outputId": "c1deeb9c-6607-4a91-e603-3fb0853a0b8a"
      },
      "execution_count": null,
      "outputs": [
        {
          "output_type": "stream",
          "name": "stdout",
          "text": [
            "+--------------------+-----+\n",
            "|        organization|count|\n",
            "+--------------------+-----+\n",
            "|Brownian Motion Inc.|    1|\n",
            "|           Summit NJ|    1|\n",
            "|Software Engineer...|    4|\n",
            "|Sea Change Corpor...|    1|\n",
            "|University of Was...|    8|\n",
            "|California Instit...|   65|\n",
            "|Kupajava, East of...|    9|\n",
            "|Express Access On...|    3|\n",
            "|Harlequin Ltd, Ca...|    1|\n",
            "|California State ...|    1|\n",
            "|Salvation Army Dr...|    3|\n",
            "|California Instit...|    3|\n",
            "|Johns Hopkins Uni...|    7|\n",
            "|Mantis Consultant...|   40|\n",
            "|    Imperial College|    1|\n",
            "|Louisiana Tech Un...|    2|\n",
            "|Nyx, Public Acces...|    6|\n",
            "|Penn State Univer...|   13|\n",
            "|Society for Putti...|    7|\n",
            "|Computing Service...|    3|\n",
            "+--------------------+-----+\n",
            "only showing top 20 rows\n",
            "\n"
          ]
        }
      ]
    },
    {
      "cell_type": "code",
      "source": [
        "#stats on nb lines \n",
        "df2.describe(\"Lines\").show()"
      ],
      "metadata": {
        "colab": {
          "base_uri": "https://localhost:8080/"
        },
        "id": "6vzTzjO_w5x3",
        "outputId": "ad0f18c9-c67a-4ca6-9699-1e802d6678cf"
      },
      "execution_count": null,
      "outputs": [
        {
          "output_type": "stream",
          "name": "stdout",
          "text": [
            "+-------+------------------+\n",
            "|summary|             Lines|\n",
            "+-------+------------------+\n",
            "|  count|              2000|\n",
            "|   mean| 36.48294884653962|\n",
            "| stddev|48.791372734500925|\n",
            "|    min|                  |\n",
            "|    max|                99|\n",
            "+-------+------------------+\n",
            "\n"
          ]
        }
      ]
    },
    {
      "cell_type": "code",
      "source": [
        "#spark.sql(\"DROP VIEW religion\")"
      ],
      "metadata": {
        "id": "E4BrjK590ilP"
      },
      "execution_count": null,
      "outputs": []
    },
    {
      "cell_type": "code",
      "source": [
        "# creation of vue that only contains religion docs\n",
        "spark.sql(\"CREATE TEMP VIEW religion AS SELECT newsgroups FROM documents WHERE newsgroups LIKE '%alt.atheism%'\")"
      ],
      "metadata": {
        "colab": {
          "base_uri": "https://localhost:8080/"
        },
        "id": "cJITkzBIw5q6",
        "outputId": "afc869fc-6cff-4d34-815f-75de3c35a576"
      },
      "execution_count": null,
      "outputs": [
        {
          "output_type": "execute_result",
          "data": {
            "text/plain": [
              "DataFrame[]"
            ]
          },
          "metadata": {},
          "execution_count": 39
        }
      ]
    },
    {
      "cell_type": "code",
      "source": [
        "# nombre of document for athesim\n",
        "spark.sql(\"SELECT count(newsgroups) as nb_alt_atheism FROM religion\").show()"
      ],
      "metadata": {
        "colab": {
          "base_uri": "https://localhost:8080/"
        },
        "id": "bo1Jcov2w5iJ",
        "outputId": "e5002cc2-8341-406a-8200-4f561c87cc85"
      },
      "execution_count": null,
      "outputs": [
        {
          "output_type": "stream",
          "name": "stdout",
          "text": [
            "+--------------+\n",
            "|nb_alt_atheism|\n",
            "+--------------+\n",
            "|          1000|\n",
            "+--------------+\n",
            "\n"
          ]
        }
      ]
    },
    {
      "cell_type": "markdown",
      "source": [
        "#**Transformation du texte**"
      ],
      "metadata": {
        "id": "9Amqe4Oie-1Z"
      }
    },
    {
      "cell_type": "code",
      "source": [
        "# transform in Row sql the entire document not just the body and few fields . this wiil be applied on the merged rdd that contains the entire doc 0 name 1 header 2 body\n",
        "def allToRow1(doc):\n",
        "  return Row(document=doc[0]+doc[1]+doc[2]) # i might remove doc id from the row cause i think it might affect the clustering "
      ],
      "metadata": {
        "id": "KC_zUIZj1kFp"
      },
      "execution_count": null,
      "outputs": []
    },
    {
      "cell_type": "code",
      "source": [
        "def allToRow(doc):\n",
        "  return Row(document=doc[1]+doc[2]) # we removed doc id and we continue with this function"
      ],
      "metadata": {
        "id": "bx1aVvsAAHSE"
      },
      "execution_count": null,
      "outputs": []
    },
    {
      "cell_type": "code",
      "source": [
        "new_row_rdd=merged_rdd.map(allToRow)\n",
        "print(\"printing the first element to test in it's correct : \",new_row_rdd.first())"
      ],
      "metadata": {
        "colab": {
          "base_uri": "https://localhost:8080/"
        },
        "id": "1Y9KyKMQ35U6",
        "outputId": "848f3072-a254-488e-f508-a33059058c4d"
      },
      "execution_count": null,
      "outputs": [
        {
          "output_type": "stream",
          "name": "stdout",
          "text": [
            "printing the first element to test in it's correct :  Row(document='Xref: cantaloupe.srv.cs.cmu.edu alt.atheism:49960 alt.atheism.moderated:713 news.answers:7054 alt.answers:126\\nPath: cantaloupe.srv.cs.cmu.edu!crabapple.srv.cs.cmu.edu!bb3.andrew.cmu.edu!news.sei.cmu.edu!cis.ohio-state.edu!magnus.acs.ohio-state.edu!usenet.ins.cwru.edu!agate!spool.mu.edu!uunet!pipex!ibmpcug!mantis!mathew\\nFrom: mathew <mathew@mantis.co.uk>\\nNewsgroups: alt.atheism,alt.atheism.moderated,news.answers,alt.answers\\nSubject: Alt.Atheism FAQ: Atheist Resources\\nSummary: Books, addresses, music -- anything related to atheism\\nKeywords: FAQ, atheism, books, music, fiction, addresses, contacts\\nMessage-ID: <19930329115719@mantis.co.uk>\\nDate: Mon, 29 Mar 1993 11:57:19 GMT\\nExpires: Thu, 29 Apr 1993 11:57:19 GMT\\nFollowup-To: alt.atheism\\nDistribution: world\\nOrganization: Mantis Consultants, Cambridge. UK.\\nApproved: news-answers-request@mit.edu\\nSupersedes: <19930301143317@mantis.co.uk>\\nLines: 290Archive-name: atheism/resources\\nAlt-atheism-archive-name: resources\\nLast-modified: 11 December 1992\\nVersion: 1.0\\n\\n                              Atheist Resources\\n\\n                      Addresses of Atheist Organizations\\n\\n                                     USA\\n\\nFREEDOM FROM RELIGION FOUNDATION\\n\\nDarwin fish bumper stickers and assorted other atheist paraphernalia are\\navailable from the Freedom From Religion Foundation in the US.\\n\\nWrite to:  FFRF, P.O. Box 750, Madison, WI 53701.\\nTelephone: (608) 256-8900\\n\\nEVOLUTION DESIGNS\\n\\nEvolution Designs sell the \"Darwin fish\".  It\\'s a fish symbol, like the ones\\nChristians stick on their cars, but with feet and the word \"Darwin\" written\\ninside.  The deluxe moulded 3D plastic fish is $4.95 postpaid in the US.\\n\\nWrite to:  Evolution Designs, 7119 Laurel Canyon #4, North Hollywood,\\n           CA 91605.\\n\\nPeople in the San Francisco Bay area can get Darwin Fish from Lynn Gold --\\ntry mailing <figmo@netcom.com>.  For net people who go to Lynn directly, the\\nprice is $4.95 per fish.\\n\\nAMERICAN ATHEIST PRESS\\n\\nAAP publish various atheist books -- critiques of the Bible, lists of\\nBiblical contradictions, and so on.  One such book is:\\n\\n\"The Bible Handbook\" by W.P. Ball and G.W. Foote.  American Atheist Press.\\n372 pp.  ISBN 0-910309-26-4, 2nd edition, 1986.  Bible contradictions,\\nabsurdities, atrocities, immoralities... contains Ball, Foote: \"The Bible\\nContradicts Itself\", AAP.  Based on the King James version of the Bible.\\n\\nWrite to:  American Atheist Press, P.O. Box 140195, Austin, TX 78714-0195.\\n      or:  7215 Cameron Road, Austin, TX 78752-2973.\\nTelephone: (512) 458-1244\\nFax:       (512) 467-9525\\n\\nPROMETHEUS BOOKS\\n\\nSell books including Haught\\'s \"Holy Horrors\" (see below).\\n\\nWrite to:  700 East Amherst Street, Buffalo, New York 14215.\\nTelephone: (716) 837-2475.\\n\\nAn alternate address (which may be newer or older) is:\\nPrometheus Books, 59 Glenn Drive, Buffalo, NY 14228-2197.\\n\\nAFRICAN-AMERICANS FOR HUMANISM\\n\\nAn organization promoting black secular humanism and uncovering the history of\\nblack freethought.  They publish a quarterly newsletter, AAH EXAMINER.\\n\\nWrite to:  Norm R. Allen, Jr., African Americans for Humanism, P.O. Box 664,\\n           Buffalo, NY 14226.\\n\\n                                United Kingdom\\n\\nRationalist Press Association          National Secular Society\\n88 Islington High Street               702 Holloway Road\\nLondon N1 8EW                          London N19 3NL\\n071 226 7251                           071 272 1266\\n\\nBritish Humanist Association           South Place Ethical Society\\n14 Lamb\\'s Conduit Passage              Conway Hall\\nLondon WC1R 4RH                        Red Lion Square\\n071 430 0908                           London WC1R 4RL\\nfax 071 430 1271                       071 831 7723\\n\\nThe National Secular Society publish \"The Freethinker\", a monthly magazine\\nfounded in 1881.\\n\\n                                   Germany\\n\\nIBKA e.V.\\nInternationaler Bund der Konfessionslosen und Atheisten\\nPostfach 880, D-1000 Berlin 41. Germany.\\n\\nIBKA publish a journal:\\nMIZ. (Materialien und Informationen zur Zeit. Politisches\\nJournal der Konfessionslosesn und Atheisten. Hrsg. IBKA e.V.)\\nMIZ-Vertrieb, Postfach 880, D-1000 Berlin 41. Germany.\\n\\nFor atheist books, write to:\\n\\nIBDK, Internationaler B\"ucherdienst der Konfessionslosen\\nPostfach 3005, D-3000 Hannover 1. Germany.\\nTelephone: 0511/211216\\n\\n\\n                               Books -- Fiction\\n\\nTHOMAS M. DISCH\\n\\n\"The Santa Claus Compromise\"\\nShort story.  The ultimate proof that Santa exists.  All characters and \\nevents are fictitious.  Any similarity to living or dead gods -- uh, well...\\n\\nWALTER M. MILLER, JR\\n\\n\"A Canticle for Leibowitz\"\\nOne gem in this post atomic doomsday novel is the monks who spent their lives\\ncopying blueprints from \"Saint Leibowitz\", filling the sheets of paper with\\nink and leaving white lines and letters.\\n\\nEDGAR PANGBORN\\n\\n\"Davy\"\\nPost atomic doomsday novel set in clerical states.  The church, for example,\\nforbids that anyone \"produce, describe or use any substance containing...\\natoms\". \\n\\nPHILIP K. DICK\\n\\nPhilip K. Dick Dick wrote many philosophical and thought-provoking short \\nstories and novels.  His stories are bizarre at times, but very approachable.\\nHe wrote mainly SF, but he wrote about people, truth and religion rather than\\ntechnology.  Although he often believed that he had met some sort of God, he\\nremained sceptical.  Amongst his novels, the following are of some relevance:\\n\\n\"Galactic Pot-Healer\"\\nA fallible alien deity summons a group of Earth craftsmen and women to a\\nremote planet to raise a giant cathedral from beneath the oceans.  When the\\ndeity begins to demand faith from the earthers, pot-healer Joe Fernwright is\\nunable to comply.  A polished, ironic and amusing novel.\\n\\n\"A Maze of Death\"\\nNoteworthy for its description of a technology-based religion.\\n\\n\"VALIS\"\\nThe schizophrenic hero searches for the hidden mysteries of Gnostic\\nChristianity after reality is fired into his brain by a pink laser beam of\\nunknown but possibly divine origin.  He is accompanied by his dogmatic and\\ndismissively atheist friend and assorted other odd characters.\\n\\n\"The Divine Invasion\"\\nGod invades Earth by making a young woman pregnant as she returns from\\nanother star system.  Unfortunately she is terminally ill, and must be\\nassisted by a dead man whose brain is wired to 24-hour easy listening music.\\n\\nMARGARET ATWOOD\\n\\n\"The Handmaid\\'s Tale\"\\nA story based on the premise that the US Congress is mysteriously\\nassassinated, and fundamentalists quickly take charge of the nation to set it\\n\"right\" again.  The book is the diary of a woman\\'s life as she tries to live\\nunder the new Christian theocracy.  Women\\'s right to own property is revoked,\\nand their bank accounts are closed; sinful luxuries are outlawed, and the\\nradio is only used for readings from the Bible.  Crimes are punished\\nretroactively: doctors who performed legal abortions in the \"old world\" are\\nhunted down and hanged.  Atwood\\'s writing style is difficult to get used to\\nat first, but the tale grows more and more chilling as it goes on.\\n\\nVARIOUS AUTHORS\\n\\n\"The Bible\"\\nThis somewhat dull and rambling work has often been criticized.  However, it\\nis probably worth reading, if only so that you\\'ll know what all the fuss is\\nabout.  It exists in many different versions, so make sure you get the one\\ntrue version.\\n\\n                             Books -- Non-fiction\\n\\nPETER DE ROSA\\n\\n\"Vicars of Christ\", Bantam Press, 1988\\nAlthough de Rosa seems to be Christian or even Catholic this is a very\\nenlighting history of papal immoralities, adulteries, fallacies etc.\\n(German translation: \"Gottes erste Diener. Die dunkle Seite des Papsttums\",\\nDroemer-Knaur, 1989)\\n\\nMICHAEL MARTIN\\n\\n\"Atheism: A Philosophical Justification\", Temple University Press,\\n Philadelphia, USA.\\nA detailed and scholarly justification of atheism.  Contains an outstanding\\nappendix defining terminology and usage in this (necessarily) tendentious\\narea.  Argues both for \"negative atheism\" (i.e. the \"non-belief in the\\nexistence of god(s)\") and also for \"positive atheism\" (\"the belief in the\\nnon-existence of god(s)\").  Includes great refutations of the most\\nchallenging arguments for god; particular attention is paid to refuting\\ncontempory theists such as Platinga and Swinburne.\\n541 pages. ISBN 0-87722-642-3 (hardcover; paperback also available)\\n\\n\"The Case Against Christianity\", Temple University Press\\nA comprehensive critique of Christianity, in which he considers\\nthe best contemporary defences of Christianity and (ultimately)\\ndemonstrates that they are unsupportable and/or incoherent.\\n273 pages. ISBN 0-87722-767-5\\n\\nJAMES TURNER\\n\\n\"Without God, Without Creed\", The Johns Hopkins University Press, Baltimore,\\n MD, USA\\nSubtitled \"The Origins of Unbelief in America\".  Examines the way in which\\nunbelief (whether agnostic or atheistic)  became a mainstream alternative\\nworld-view.  Focusses on the period 1770-1900, and while considering France\\nand Britain the emphasis is on American, and particularly New England\\ndevelopments.  \"Neither a religious history of secularization or atheism,\\nWithout God, Without Creed is, rather, the intellectual history of the fate\\nof a single idea, the belief that God exists.\" \\n316 pages. ISBN (hardcover) 0-8018-2494-X (paper) 0-8018-3407-4\\n\\nGEORGE SELDES (Editor)\\n\\n\"The great thoughts\", Ballantine Books, New York, USA\\nA \"dictionary of quotations\" of a different kind, concentrating on statements\\nand writings which, explicitly or implicitly, present the person\\'s philosophy\\nand world-view.  Includes obscure (and often suppressed) opinions from many\\npeople.  For some popular observations, traces the way in which various\\npeople expressed and twisted the idea over the centuries.  Quite a number of\\nthe quotations are derived from Cardiff\\'s \"What Great Men Think of Religion\"\\nand Noyes\\' \"Views of Religion\".\\n490 pages. ISBN (paper) 0-345-29887-X.\\n\\nRICHARD SWINBURNE\\n\\n\"The Existence of God (Revised Edition)\", Clarendon Paperbacks, Oxford\\nThis book is the second volume in a trilogy that began with \"The Coherence of\\nTheism\" (1977) and was concluded with \"Faith and Reason\" (1981).  In this\\nwork, Swinburne attempts to construct a series of inductive arguments for the\\nexistence of God.  His arguments, which are somewhat tendentious and rely\\nupon the imputation of late 20th century western Christian values and\\naesthetics to a God which is supposedly as simple as can be conceived, were\\ndecisively rejected in Mackie\\'s \"The Miracle of Theism\".  In the revised\\nedition of \"The Existence of God\", Swinburne includes an Appendix in which he\\nmakes a somewhat incoherent attempt to rebut Mackie.\\n\\nJ. L. MACKIE\\n\\n\"The Miracle of Theism\", Oxford\\nThis (posthumous) volume contains a comprehensive review of the principal\\narguments for and against the existence of God.  It ranges from the classical\\nphilosophical positions of Descartes, Anselm, Berkeley, Hume et al, through\\nthe moral arguments of Newman, Kant and Sidgwick, to the recent restatements\\nof the classical theses by Plantinga and Swinburne.  It also addresses those\\npositions which push the concept of God beyond the realm of the rational,\\nsuch as those of Kierkegaard, Kung and Philips, as well as \"replacements for\\nGod\" such as Lelie\\'s axiarchism.  The book is a delight to read - less\\nformalistic and better written than Martin\\'s works, and refreshingly direct\\nwhen compared with the hand-waving of Swinburne.\\n\\nJAMES A. HAUGHT\\n\\n\"Holy Horrors: An Illustrated History of Religious Murder and Madness\",\\n Prometheus Books\\nLooks at religious persecution from ancient times to the present day -- and\\nnot only by Christians.\\nLibrary of Congress Catalog Card Number 89-64079. 1990.\\n\\nNORM R. ALLEN, JR.\\n\\n\"African American Humanism: an Anthology\"\\nSee the listing for African Americans for Humanism above.\\n\\nGORDON STEIN\\n\\n\"An Anthology of Atheism and Rationalism\", Prometheus Books\\nAn anthology covering a wide range of subjects, including \\'The Devil, Evil\\nand Morality\\' and \\'The History of Freethought\\'.  Comprehensive bibliography.\\n\\nEDMUND D. COHEN\\n\\n\"The Mind of The Bible-Believer\", Prometheus Books\\nA study of why people become Christian fundamentalists, and what effect it\\nhas on them.\\n\\n                                Net Resources\\n\\nThere\\'s a small mail-based archive server at mantis.co.uk which carries\\narchives of old alt.atheism.moderated articles and assorted other files.  For\\nmore information, send mail to archive-server@mantis.co.uk saying\\n\\n   help\\n   send atheism/index\\n\\nand it will mail back a reply.\\n\\n\\nmathew\\n�\\n')\n"
          ]
        }
      ]
    },
    {
      "cell_type": "code",
      "source": [
        "#creating data frame for the entire document for all entiries \n",
        "all_doc_df=spark.createDataFrame(new_row_rdd)\n",
        "all_doc_df.show()"
      ],
      "metadata": {
        "colab": {
          "base_uri": "https://localhost:8080/"
        },
        "id": "CDXmZT1p4yYO",
        "outputId": "37a60450-b0aa-423d-f457-742dd7ad0755"
      },
      "execution_count": null,
      "outputs": [
        {
          "output_type": "stream",
          "name": "stdout",
          "text": [
            "+--------------------+\n",
            "|            document|\n",
            "+--------------------+\n",
            "|Xref: cantaloupe....|\n",
            "|Xref: cantaloupe....|\n",
            "|Newsgroups: alt.a...|\n",
            "|Xref: cantaloupe....|\n",
            "|Xref: cantaloupe....|\n",
            "|Newsgroups: alt.a...|\n",
            "|Path: cantaloupe....|\n",
            "|Newsgroups: alt.a...|\n",
            "|Path: cantaloupe....|\n",
            "|Path: cantaloupe....|\n",
            "|Path: cantaloupe....|\n",
            "|Path: cantaloupe....|\n",
            "|Xref: cantaloupe....|\n",
            "|Path: cantaloupe....|\n",
            "|Path: cantaloupe....|\n",
            "|Path: cantaloupe....|\n",
            "|Path: cantaloupe....|\n",
            "|Path: cantaloupe....|\n",
            "|Path: cantaloupe....|\n",
            "|Path: cantaloupe....|\n",
            "+--------------------+\n",
            "only showing top 20 rows\n",
            "\n"
          ]
        }
      ]
    },
    {
      "cell_type": "code",
      "source": [
        "# creating the word list using tokenizer\n",
        "from pyspark.ml.feature import Tokenizer"
      ],
      "metadata": {
        "id": "Qit_ExAIfDgd"
      },
      "execution_count": null,
      "outputs": []
    },
    {
      "cell_type": "code",
      "source": [
        "tokenizer = Tokenizer(inputCol=\"document\", outputCol=\"word_list\")\n",
        "words_df = tokenizer.transform(all_doc_df)\n",
        "words_df.show()"
      ],
      "metadata": {
        "id": "mKwMpaqyfeRQ",
        "colab": {
          "base_uri": "https://localhost:8080/"
        },
        "outputId": "981e5180-3512-49a3-808f-4e614964c353"
      },
      "execution_count": null,
      "outputs": [
        {
          "output_type": "stream",
          "name": "stdout",
          "text": [
            "+--------------------+--------------------+\n",
            "|            document|           word_list|\n",
            "+--------------------+--------------------+\n",
            "|Xref: cantaloupe....|[xref:, cantaloup...|\n",
            "|Xref: cantaloupe....|[xref:, cantaloup...|\n",
            "|Newsgroups: alt.a...|[newsgroups:, alt...|\n",
            "|Xref: cantaloupe....|[xref:, cantaloup...|\n",
            "|Xref: cantaloupe....|[xref:, cantaloup...|\n",
            "|Newsgroups: alt.a...|[newsgroups:, alt...|\n",
            "|Path: cantaloupe....|[path:, cantaloup...|\n",
            "|Newsgroups: alt.a...|[newsgroups:, alt...|\n",
            "|Path: cantaloupe....|[path:, cantaloup...|\n",
            "|Path: cantaloupe....|[path:, cantaloup...|\n",
            "|Path: cantaloupe....|[path:, cantaloup...|\n",
            "|Path: cantaloupe....|[path:, cantaloup...|\n",
            "|Xref: cantaloupe....|[xref:, cantaloup...|\n",
            "|Path: cantaloupe....|[path:, cantaloup...|\n",
            "|Path: cantaloupe....|[path:, cantaloup...|\n",
            "|Path: cantaloupe....|[path:, cantaloup...|\n",
            "|Path: cantaloupe....|[path:, cantaloup...|\n",
            "|Path: cantaloupe....|[path:, cantaloup...|\n",
            "|Path: cantaloupe....|[path:, cantaloup...|\n",
            "|Path: cantaloupe....|[path:, cantaloup...|\n",
            "+--------------------+--------------------+\n",
            "only showing top 20 rows\n",
            "\n"
          ]
        }
      ]
    },
    {
      "cell_type": "code",
      "source": [
        "#Creating a vectoriel representation using HashingTf\n",
        "from pyspark.ml.feature import HashingTF"
      ],
      "metadata": {
        "id": "-oLFnqgufeEg"
      },
      "execution_count": null,
      "outputs": []
    },
    {
      "cell_type": "code",
      "source": [
        "hashingTF = HashingTF(inputCol=\"word_list\", outputCol=\"features\")\n",
        "tf_df = hashingTF.transform(words_df)"
      ],
      "metadata": {
        "id": "1QaL2KBgfd3o"
      },
      "execution_count": null,
      "outputs": []
    },
    {
      "cell_type": "markdown",
      "source": [
        "#**Grouper les documents qui ont des représentations vectorielles proches**"
      ],
      "metadata": {
        "id": "zRiDoOYaf2cH"
      }
    },
    {
      "cell_type": "code",
      "source": [
        "#k means\n",
        "from pyspark.ml.clustering import KMeans\n",
        "\n",
        "# Create a KMeans instance with k=2 clusters\n",
        "kmeans = KMeans().setK(2).setSeed(1)\n",
        "\n",
        "# Train the model on the features column\n",
        "model = kmeans.fit(tf_df.select(\"features\"))\n",
        "\n",
        "# Get the cluster assignments for each document\n",
        "predictions = model.transform(tf_df)\n",
        "predictions.show()"
      ],
      "metadata": {
        "id": "S-FELph0lKGN",
        "colab": {
          "base_uri": "https://localhost:8080/"
        },
        "outputId": "075f02a9-7086-435c-ef75-15a8f24f0cec"
      },
      "execution_count": null,
      "outputs": [
        {
          "output_type": "stream",
          "name": "stdout",
          "text": [
            "+--------------------+--------------------+--------------------+----------+\n",
            "|            document|           word_list|            features|prediction|\n",
            "+--------------------+--------------------+--------------------+----------+\n",
            "|Xref: cantaloupe....|[xref:, cantaloup...|(262144,[154,521,...|         0|\n",
            "|Xref: cantaloupe....|[xref:, cantaloup...|(262144,[409,489,...|         0|\n",
            "|Newsgroups: alt.a...|[newsgroups:, alt...|(262144,[19,321,8...|         0|\n",
            "|Xref: cantaloupe....|[xref:, cantaloup...|(262144,[6193,853...|         0|\n",
            "|Xref: cantaloupe....|[xref:, cantaloup...|(262144,[4971,619...|         0|\n",
            "|Newsgroups: alt.a...|[newsgroups:, alt...|(262144,[453,2306...|         0|\n",
            "|Path: cantaloupe....|[path:, cantaloup...|(262144,[1818,619...|         0|\n",
            "|Newsgroups: alt.a...|[newsgroups:, alt...|(262144,[3530,421...|         0|\n",
            "|Path: cantaloupe....|[path:, cantaloup...|(262144,[2564,293...|         0|\n",
            "|Path: cantaloupe....|[path:, cantaloup...|(262144,[6193,636...|         0|\n",
            "|Path: cantaloupe....|[path:, cantaloup...|(262144,[161,6193...|         0|\n",
            "|Path: cantaloupe....|[path:, cantaloup...|(262144,[1109,297...|         0|\n",
            "|Xref: cantaloupe....|[xref:, cantaloup...|(262144,[2193,297...|         0|\n",
            "|Path: cantaloupe....|[path:, cantaloup...|(262144,[1818,619...|         0|\n",
            "|Path: cantaloupe....|[path:, cantaloup...|(262144,[2977,335...|         0|\n",
            "|Path: cantaloupe....|[path:, cantaloup...|(262144,[452,1004...|         0|\n",
            "|Path: cantaloupe....|[path:, cantaloup...|(262144,[1004,110...|         0|\n",
            "|Path: cantaloupe....|[path:, cantaloup...|(262144,[573,619,...|         0|\n",
            "|Path: cantaloupe....|[path:, cantaloup...|(262144,[1893,243...|         0|\n",
            "|Path: cantaloupe....|[path:, cantaloup...|(262144,[3280,462...|         0|\n",
            "+--------------------+--------------------+--------------------+----------+\n",
            "only showing top 20 rows\n",
            "\n"
          ]
        }
      ]
    },
    {
      "cell_type": "code",
      "source": [
        "#seeing the clsuters \n",
        "predictions.createOrReplaceTempView(\"test\")\n",
        "spark.sql(\"SELECT count(*) as nb_doc_in_each_cluster,prediction as type_of_doc from test group by prediction\").show()"
      ],
      "metadata": {
        "colab": {
          "base_uri": "https://localhost:8080/"
        },
        "id": "HcbNWJSt7pWw",
        "outputId": "0c86ea44-d095-4056-914f-786d2d57cfe2"
      },
      "execution_count": null,
      "outputs": [
        {
          "output_type": "stream",
          "name": "stdout",
          "text": [
            "+----------------------+-----------+\n",
            "|nb_doc_in_each_cluster|type_of_doc|\n",
            "+----------------------+-----------+\n",
            "|                     5|          1|\n",
            "|                  1995|          0|\n",
            "+----------------------+-----------+\n",
            "\n"
          ]
        }
      ]
    },
    {
      "cell_type": "markdown",
      "source": [
        "#**Partie optionel**"
      ],
      "metadata": {
        "id": "TBoNIHqbYD9k"
      }
    },
    {
      "cell_type": "code",
      "source": [
        "#1. Pondérer les mots avec la formule Tf-Idf (avant KMeans)\n",
        "\n",
        "from pyspark.sql.functions import split\n",
        "df3 = words_df.withColumn(\"word_list\", split(words_df[\"document\"], \" \")) \n",
        "from pyspark.ml.feature import CountVectorizer\n",
        "cv = CountVectorizer(inputCol=\"word_list\", outputCol=\"rawFeatures\", vocabSize=10000)\n",
        "cvModel = cv.fit(df3)\n",
        "tf = cvModel.transform(df3).select(\"document\", \"rawFeatures\")\n",
        "from pyspark.ml.feature import IDF\n",
        "idf = IDF(inputCol=\"rawFeatures\", outputCol=\"features\")\n",
        "idfModel = idf.fit(tf)\n",
        "tfidf = idfModel.transform(tf).select(\"document\", \"features\")"
      ],
      "metadata": {
        "id": "sKttewF8YAxM"
      },
      "execution_count": null,
      "outputs": []
    },
    {
      "cell_type": "code",
      "source": [
        "#2. Normaliser les vecteurs représentant les documents (avant KMeans).\n",
        "\n",
        "from pyspark.ml.feature import VectorAssembler\n",
        "assembler = VectorAssembler(inputCols=[\"features\"], outputCol=\"vectors\")\n",
        "df_vectors = assembler.transform(tfidf).select(\"document\", \"vectors\")\n",
        "from pyspark.ml.feature import Normalizer\n",
        "normalizer = Normalizer(inputCol=\"vectors\", outputCol=\"features\", p=2.0)\n",
        "df_norm = normalizer.transform(df_vectors).select(\"document\", \"features\")\n",
        "df_norm.show()"
      ],
      "metadata": {
        "colab": {
          "base_uri": "https://localhost:8080/"
        },
        "id": "DgHLWJiIYSPn",
        "outputId": "559ff5fd-23bd-45e8-ac96-9740846f3570"
      },
      "execution_count": null,
      "outputs": [
        {
          "output_type": "stream",
          "name": "stdout",
          "text": [
            "+--------------------+--------------------+\n",
            "|            document|            features|\n",
            "+--------------------+--------------------+\n",
            "|Xref: cantaloupe....|(10000,[0,1,2,3,4...|\n",
            "|Xref: cantaloupe....|(10000,[0,1,2,3,4...|\n",
            "|Newsgroups: alt.a...|(10000,[0,1,2,3,4...|\n",
            "|Xref: cantaloupe....|(10000,[0,1,2,3,4...|\n",
            "|Xref: cantaloupe....|(10000,[0,1,2,3,5...|\n",
            "|Newsgroups: alt.a...|(10000,[0,1,2,3,4...|\n",
            "|Path: cantaloupe....|(10000,[0,1,2,3,4...|\n",
            "|Newsgroups: alt.a...|(10000,[0,1,2,3,4...|\n",
            "|Path: cantaloupe....|(10000,[0,1,2,3,4...|\n",
            "|Path: cantaloupe....|(10000,[1,3,6,10,...|\n",
            "|Path: cantaloupe....|(10000,[0,1,2,3,4...|\n",
            "|Path: cantaloupe....|(10000,[0,1,3,4,5...|\n",
            "|Xref: cantaloupe....|(10000,[0,1,2,3,4...|\n",
            "|Path: cantaloupe....|(10000,[0,1,2,3,4...|\n",
            "|Path: cantaloupe....|(10000,[0,1,2,3,4...|\n",
            "|Path: cantaloupe....|(10000,[0,1,2,3,4...|\n",
            "|Path: cantaloupe....|(10000,[0,1,2,3,4...|\n",
            "|Path: cantaloupe....|(10000,[0,1,2,3,4...|\n",
            "|Path: cantaloupe....|(10000,[0,1,2,3,4...|\n",
            "|Path: cantaloupe....|(10000,[0,1,2,3,4...|\n",
            "+--------------------+--------------------+\n",
            "only showing top 20 rows\n",
            "\n"
          ]
        }
      ]
    },
    {
      "cell_type": "code",
      "source": [
        "from pyspark.ml.clustering import KMeans\n",
        "\n",
        "# Create a KMeans instance with k=2 clusters\n",
        "opt_kmeans = KMeans().setK(2).setSeed(1)\n",
        "\n",
        "# Train the model on the features column\n",
        "opt_model = opt_kmeans.fit(df_norm.select(\"features\"))\n",
        "\n",
        "# Get the cluster assignments for each document\n",
        "opt_predictions = opt_model.transform(df_norm)\n",
        "opt_predictions.show()"
      ],
      "metadata": {
        "colab": {
          "base_uri": "https://localhost:8080/"
        },
        "id": "YAgGU7RUdJNw",
        "outputId": "154e80d5-52fe-4dba-87c4-5f8c9b1fd879"
      },
      "execution_count": null,
      "outputs": [
        {
          "output_type": "stream",
          "name": "stdout",
          "text": [
            "+--------------------+--------------------+----------+\n",
            "|            document|            features|prediction|\n",
            "+--------------------+--------------------+----------+\n",
            "|Xref: cantaloupe....|(10000,[0,1,2,3,4...|         0|\n",
            "|Xref: cantaloupe....|(10000,[0,1,2,3,4...|         0|\n",
            "|Newsgroups: alt.a...|(10000,[0,1,2,3,4...|         0|\n",
            "|Xref: cantaloupe....|(10000,[0,1,2,3,4...|         0|\n",
            "|Xref: cantaloupe....|(10000,[0,1,2,3,5...|         0|\n",
            "|Newsgroups: alt.a...|(10000,[0,1,2,3,4...|         0|\n",
            "|Path: cantaloupe....|(10000,[0,1,2,3,4...|         0|\n",
            "|Newsgroups: alt.a...|(10000,[0,1,2,3,4...|         0|\n",
            "|Path: cantaloupe....|(10000,[0,1,2,3,4...|         0|\n",
            "|Path: cantaloupe....|(10000,[1,3,6,10,...|         0|\n",
            "|Path: cantaloupe....|(10000,[0,1,2,3,4...|         0|\n",
            "|Path: cantaloupe....|(10000,[0,1,3,4,5...|         0|\n",
            "|Xref: cantaloupe....|(10000,[0,1,2,3,4...|         0|\n",
            "|Path: cantaloupe....|(10000,[0,1,2,3,4...|         0|\n",
            "|Path: cantaloupe....|(10000,[0,1,2,3,4...|         0|\n",
            "|Path: cantaloupe....|(10000,[0,1,2,3,4...|         0|\n",
            "|Path: cantaloupe....|(10000,[0,1,2,3,4...|         0|\n",
            "|Path: cantaloupe....|(10000,[0,1,2,3,4...|         0|\n",
            "|Path: cantaloupe....|(10000,[0,1,2,3,4...|         0|\n",
            "|Path: cantaloupe....|(10000,[0,1,2,3,4...|         0|\n",
            "+--------------------+--------------------+----------+\n",
            "only showing top 20 rows\n",
            "\n"
          ]
        }
      ]
    },
    {
      "cell_type": "code",
      "source": [
        "#seeing the clsuters \n",
        "opt_predictions.createOrReplaceTempView(\"opt_test\")\n",
        "spark.sql(\"SELECT count(*) as nb_doc_in_each_cluster,prediction as type_of_doc from opt_test group by prediction\").show()"
      ],
      "metadata": {
        "colab": {
          "base_uri": "https://localhost:8080/"
        },
        "id": "96VtjYOSeTbi",
        "outputId": "a053d1a9-f3ad-415e-a68e-e7c5be7e0b87"
      },
      "execution_count": null,
      "outputs": [
        {
          "output_type": "stream",
          "name": "stdout",
          "text": [
            "+----------------------+-----------+\n",
            "|nb_doc_in_each_cluster|type_of_doc|\n",
            "+----------------------+-----------+\n",
            "|                    85|          1|\n",
            "|                  1915|          0|\n",
            "+----------------------+-----------+\n",
            "\n"
          ]
        }
      ]
    }
  ]
}